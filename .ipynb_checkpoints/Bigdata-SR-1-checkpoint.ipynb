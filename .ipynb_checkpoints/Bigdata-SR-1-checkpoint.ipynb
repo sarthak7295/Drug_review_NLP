{
 "cells": [
  {
   "cell_type": "code",
   "execution_count": 1,
   "metadata": {},
   "outputs": [
    {
     "name": "stdout",
     "output_type": "stream",
     "text": [
      "Setup Done...\n"
     ]
    }
   ],
   "source": [
    "import numpy as np\n",
    "import pandas as pd\n",
    "\n",
    "print(\"Setup Done...\")"
   ]
  },
  {
   "cell_type": "markdown",
   "metadata": {},
   "source": [
    "### Loading dataset"
   ]
  },
  {
   "cell_type": "code",
   "execution_count": 2,
   "metadata": {},
   "outputs": [],
   "source": [
    "train_file_name = 'drugsComTrain_raw.csv'\n",
    "test_file_name = 'drugsComTest_raw.csv'\n",
    "file_path = './data/'\n",
    "\n",
    "df_train = pd.read_csv(file_path+train_file_name)"
   ]
  },
  {
   "cell_type": "code",
   "execution_count": 3,
   "metadata": {},
   "outputs": [
    {
     "data": {
      "text/html": [
       "<div>\n",
       "<style scoped>\n",
       "    .dataframe tbody tr th:only-of-type {\n",
       "        vertical-align: middle;\n",
       "    }\n",
       "\n",
       "    .dataframe tbody tr th {\n",
       "        vertical-align: top;\n",
       "    }\n",
       "\n",
       "    .dataframe thead th {\n",
       "        text-align: right;\n",
       "    }\n",
       "</style>\n",
       "<table border=\"1\" class=\"dataframe\">\n",
       "  <thead>\n",
       "    <tr style=\"text-align: right;\">\n",
       "      <th></th>\n",
       "      <th>uniqueID</th>\n",
       "      <th>drugName</th>\n",
       "      <th>condition</th>\n",
       "      <th>review</th>\n",
       "      <th>rating</th>\n",
       "      <th>date</th>\n",
       "      <th>usefulCount</th>\n",
       "    </tr>\n",
       "  </thead>\n",
       "  <tbody>\n",
       "    <tr>\n",
       "      <td>0</td>\n",
       "      <td>206461</td>\n",
       "      <td>Valsartan</td>\n",
       "      <td>Left Ventricular Dysfunction</td>\n",
       "      <td>\"It has no side effect, I take it in combinati...</td>\n",
       "      <td>9</td>\n",
       "      <td>20-May-12</td>\n",
       "      <td>27</td>\n",
       "    </tr>\n",
       "    <tr>\n",
       "      <td>1</td>\n",
       "      <td>95260</td>\n",
       "      <td>Guanfacine</td>\n",
       "      <td>ADHD</td>\n",
       "      <td>\"My son is halfway through his fourth week of ...</td>\n",
       "      <td>8</td>\n",
       "      <td>27-Apr-10</td>\n",
       "      <td>192</td>\n",
       "    </tr>\n",
       "    <tr>\n",
       "      <td>2</td>\n",
       "      <td>92703</td>\n",
       "      <td>Lybrel</td>\n",
       "      <td>Birth Control</td>\n",
       "      <td>\"I used to take another oral contraceptive, wh...</td>\n",
       "      <td>5</td>\n",
       "      <td>14-Dec-09</td>\n",
       "      <td>17</td>\n",
       "    </tr>\n",
       "    <tr>\n",
       "      <td>3</td>\n",
       "      <td>138000</td>\n",
       "      <td>Ortho Evra</td>\n",
       "      <td>Birth Control</td>\n",
       "      <td>\"This is my first time using any form of birth...</td>\n",
       "      <td>8</td>\n",
       "      <td>3-Nov-15</td>\n",
       "      <td>10</td>\n",
       "    </tr>\n",
       "    <tr>\n",
       "      <td>4</td>\n",
       "      <td>35696</td>\n",
       "      <td>Buprenorphine / naloxone</td>\n",
       "      <td>Opiate Dependence</td>\n",
       "      <td>\"Suboxone has completely turned my life around...</td>\n",
       "      <td>9</td>\n",
       "      <td>27-Nov-16</td>\n",
       "      <td>37</td>\n",
       "    </tr>\n",
       "  </tbody>\n",
       "</table>\n",
       "</div>"
      ],
      "text/plain": [
       "   uniqueID                  drugName                     condition  \\\n",
       "0    206461                 Valsartan  Left Ventricular Dysfunction   \n",
       "1     95260                Guanfacine                          ADHD   \n",
       "2     92703                    Lybrel                 Birth Control   \n",
       "3    138000                Ortho Evra                 Birth Control   \n",
       "4     35696  Buprenorphine / naloxone             Opiate Dependence   \n",
       "\n",
       "                                              review  rating       date  \\\n",
       "0  \"It has no side effect, I take it in combinati...       9  20-May-12   \n",
       "1  \"My son is halfway through his fourth week of ...       8  27-Apr-10   \n",
       "2  \"I used to take another oral contraceptive, wh...       5  14-Dec-09   \n",
       "3  \"This is my first time using any form of birth...       8   3-Nov-15   \n",
       "4  \"Suboxone has completely turned my life around...       9  27-Nov-16   \n",
       "\n",
       "   usefulCount  \n",
       "0           27  \n",
       "1          192  \n",
       "2           17  \n",
       "3           10  \n",
       "4           37  "
      ]
     },
     "execution_count": 3,
     "metadata": {},
     "output_type": "execute_result"
    }
   ],
   "source": [
    "df_train.head()"
   ]
  },
  {
   "cell_type": "markdown",
   "metadata": {},
   "source": [
    "### Checking ASCII characters in string"
   ]
  },
  {
   "cell_type": "code",
   "execution_count": 4,
   "metadata": {},
   "outputs": [
    {
     "name": "stdout",
     "output_type": "stream",
     "text": [
      "262415\n",
      "262415\n"
     ]
    }
   ],
   "source": [
    "rows,_ = df_train.shape\n",
    "ctr = 0\n",
    "ctr2 = 0\n",
    "for row in range(rows):\n",
    "    ctr = ctr + df_train.iloc[row]['review'].count('&#')\n",
    "    ctr2 = ctr2 + df_train.iloc[row]['review'].count('&#039;')\n",
    "#     print(df_train.iloc[row]['review'])\n",
    "#     print(df_train.iloc[row]['review'].count('&#'))\n",
    "print(ctr)\n",
    "print(ctr2)\n",
    "# since both the counts are same we can say that only ASCII car present is apostrophy."
   ]
  },
  {
   "cell_type": "code",
   "execution_count": 9,
   "metadata": {},
   "outputs": [],
   "source": [
    "# Replacing ASCII cahracters from review\n",
    "rows,_ = df_train.shape\n",
    "for row in range(rows):\n",
    "    tmp = df_train.iloc[row]['review'].replace('&#039;',\"'\")\n",
    "    df_train.at[row,'review'] = tmp\n",
    "\n",
    "# # To check id values were replaced    \n",
    "# for row in range(15):\n",
    "#     print(df_train.iloc[row]['review'])"
   ]
  },
  {
   "cell_type": "markdown",
   "metadata": {},
   "source": [
    "### Checking for NAN or na values"
   ]
  },
  {
   "cell_type": "code",
   "execution_count": 10,
   "metadata": {},
   "outputs": [
    {
     "name": "stdout",
     "output_type": "stream",
     "text": [
      "values with nan shape (899, 2)\n",
      "values with null (899, 2)\n",
      "values are same\n"
     ]
    }
   ],
   "source": [
    "train_na = df_train.isna().values\n",
    "np.argwhere(train_na==True).shape\n",
    "print(\"values with nan \", np.argwhere(train_na==True).shape)\n",
    "\n",
    "train_null = df_train.isnull().values\n",
    "print(\"values with null\",np.argwhere(train_null==True).shape)\n",
    "\n",
    "# check if the NAN and null values are at same place\n",
    "print(\"values are same\" if (train_na == train_null).prod()==1 else \"values are different\")\n"
   ]
  },
  {
   "cell_type": "markdown",
   "metadata": {},
   "source": [
    "### Figure out what colums have missing values"
   ]
  },
  {
   "cell_type": "code",
   "execution_count": 11,
   "metadata": {},
   "outputs": [
    {
     "name": "stdout",
     "output_type": "stream",
     "text": [
      "Index of missing columns -> 2 \n",
      "Name of missing columns -> condition \n",
      "\n",
      "\n"
     ]
    }
   ],
   "source": [
    "missing_indexes = np.argwhere(train_na==True)\n",
    "\n",
    "# unique_cols with missing data\n",
    "missing_cols = np.unique(missing_indexes[:,1])\n",
    "for m_c in missing_cols:\n",
    "    print('Index of missing columns ->', m_c, \\\n",
    "          '\\nName of missing columns ->',df_train.columns[m_c],'\\n\\n')\n",
    "# so we can see only column name condition is missing\n"
   ]
  },
  {
   "cell_type": "code",
   "execution_count": 12,
   "metadata": {},
   "outputs": [
    {
     "name": "stdout",
     "output_type": "stream",
     "text": [
      "Total missing values rows :  899\n",
      "------------------------------------------------------\n",
      "------------------------------------------------------\n",
      "\"Very good response. It is so useful for me. \"\n",
      "------------------------------------------------------\n",
      "------------------------------------------------------\n",
      "\n",
      "\n",
      "------------------------------------------------------\n",
      "------------------------------------------------------\n",
      "\"Accurate information.\"\n",
      "------------------------------------------------------\n",
      "------------------------------------------------------\n",
      "\n",
      "\n",
      "------------------------------------------------------\n",
      "------------------------------------------------------\n",
      "\"So far so good. Good for me and I can take it everyday. Can't remember the last time I slept 7 hours straight.\"\n",
      "------------------------------------------------------\n",
      "------------------------------------------------------\n",
      "\n",
      "\n",
      "------------------------------------------------------\n",
      "------------------------------------------------------\n",
      "\"I haven't been on it for a long time and I have suffered from severe nausea and have thrown up twice. My appetite has lessened even more so than it was before. My acne has gone down and my boobs have grown a lot. Although I have thrown up, if it's for acne I would suggest it.\"\n",
      "------------------------------------------------------\n",
      "------------------------------------------------------\n",
      "\n",
      "\n",
      "------------------------------------------------------\n",
      "------------------------------------------------------\n",
      "\"I started the shot in July 2015 and ended in January 2017. Initially, I had pretty bad headaches, hot flashes, hair loss (nothing that anyone but me noticed), and quite a bit of bleeding (about 3 weeks after my first shot). After, about a month, the side affects started to wane - I stopped bleeding almost entirely (yasss!) and stopped losing hair. That said, while I did not have initial weight gain, I have gained about 15 pounds in the last year (I have never gained this much weight in this amount of time). As a result of the weight gain alone, I am discontinuing with this method of birth control.\"\n",
      "------------------------------------------------------\n",
      "------------------------------------------------------\n",
      "\n",
      "\n"
     ]
    }
   ],
   "source": [
    "# Print top 5 rows of missing index, to check the type o missing values (MAR,MCAR,NMAR)\n",
    "missing_rows = missing_indexes[:,0]\n",
    "print(\"Total missing values rows : \", len(missing_rows))\n",
    "for r in missing_rows[:5]:\n",
    "    print(\"------------------------------------------------------\")\n",
    "    print(\"------------------------------------------------------\")\n",
    "    print(df_train.iloc[r]['review'])\n",
    "#     print(df_train.iloc[r])    #------uncomment line for full view of row\n",
    "    print(\"------------------------------------------------------\")\n",
    "    print(\"------------------------------------------------------\\n\\n\")\n",
    "    \n"
   ]
  },
  {
   "cell_type": "code",
   "execution_count": null,
   "metadata": {},
   "outputs": [],
   "source": []
  }
 ],
 "metadata": {
  "kernelspec": {
   "display_name": "Python 3",
   "language": "python",
   "name": "python3"
  },
  "language_info": {
   "codemirror_mode": {
    "name": "ipython",
    "version": 3
   },
   "file_extension": ".py",
   "mimetype": "text/x-python",
   "name": "python",
   "nbconvert_exporter": "python",
   "pygments_lexer": "ipython3",
   "version": "3.6.5"
  }
 },
 "nbformat": 4,
 "nbformat_minor": 2
}
