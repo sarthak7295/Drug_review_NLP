{
 "cells": [
  {
   "cell_type": "code",
   "execution_count": 1,
   "metadata": {},
   "outputs": [],
   "source": [
    "import pandas as pd\n",
    "import numpy as np\n",
    "import itertools\n",
    "import sys\n",
    "import re\n",
    "import review_preprocess"
   ]
  },
  {
   "cell_type": "code",
   "execution_count": 2,
   "metadata": {},
   "outputs": [],
   "source": [
    "train_file_name = 'drugsComTrain_raw.csv'\n",
    "test_file_name = 'drugsComTest_raw.csv'\n",
    "file_path = './data/'\n",
    "\n",
    "df_test = pd.read_csv(file_path+test_file_name)\n",
    "df_train = pd.read_csv(file_path+train_file_name)"
   ]
  },
  {
   "cell_type": "code",
   "execution_count": 3,
   "metadata": {},
   "outputs": [
    {
     "name": "stdout",
     "output_type": "stream",
     "text": [
      "Review cleanup Completed...aracters from review column--> 100.0 percentage complete\n",
      "Removing row with nan values\n",
      "Percentage of nan rows in dataset--> 0.56 %\n",
      "Removed 899 rows with na values\n"
     ]
    }
   ],
   "source": [
    "df_processed = review_preprocess.clean_reviews(df_train)"
   ]
  },
  {
   "cell_type": "code",
   "execution_count": 4,
   "metadata": {},
   "outputs": [
    {
     "data": {
      "text/html": [
       "<div>\n",
       "<style scoped>\n",
       "    .dataframe tbody tr th:only-of-type {\n",
       "        vertical-align: middle;\n",
       "    }\n",
       "\n",
       "    .dataframe tbody tr th {\n",
       "        vertical-align: top;\n",
       "    }\n",
       "\n",
       "    .dataframe thead th {\n",
       "        text-align: right;\n",
       "    }\n",
       "</style>\n",
       "<table border=\"1\" class=\"dataframe\">\n",
       "  <thead>\n",
       "    <tr style=\"text-align: right;\">\n",
       "      <th></th>\n",
       "      <th>uniqueID</th>\n",
       "      <th>rating</th>\n",
       "      <th>usefulCount</th>\n",
       "    </tr>\n",
       "  </thead>\n",
       "  <tbody>\n",
       "    <tr>\n",
       "      <td>count</td>\n",
       "      <td>160398.000000</td>\n",
       "      <td>160398.000000</td>\n",
       "      <td>160398.000000</td>\n",
       "    </tr>\n",
       "    <tr>\n",
       "      <td>mean</td>\n",
       "      <td>115957.147309</td>\n",
       "      <td>6.995923</td>\n",
       "      <td>28.097613</td>\n",
       "    </tr>\n",
       "    <tr>\n",
       "      <td>std</td>\n",
       "      <td>67015.899492</td>\n",
       "      <td>3.272303</td>\n",
       "      <td>36.457876</td>\n",
       "    </tr>\n",
       "    <tr>\n",
       "      <td>min</td>\n",
       "      <td>2.000000</td>\n",
       "      <td>1.000000</td>\n",
       "      <td>0.000000</td>\n",
       "    </tr>\n",
       "    <tr>\n",
       "      <td>25%</td>\n",
       "      <td>58065.250000</td>\n",
       "      <td>5.000000</td>\n",
       "      <td>6.000000</td>\n",
       "    </tr>\n",
       "    <tr>\n",
       "      <td>50%</td>\n",
       "      <td>115845.500000</td>\n",
       "      <td>8.000000</td>\n",
       "      <td>16.000000</td>\n",
       "    </tr>\n",
       "    <tr>\n",
       "      <td>75%</td>\n",
       "      <td>173826.750000</td>\n",
       "      <td>10.000000</td>\n",
       "      <td>36.000000</td>\n",
       "    </tr>\n",
       "    <tr>\n",
       "      <td>max</td>\n",
       "      <td>232291.000000</td>\n",
       "      <td>10.000000</td>\n",
       "      <td>1291.000000</td>\n",
       "    </tr>\n",
       "  </tbody>\n",
       "</table>\n",
       "</div>"
      ],
      "text/plain": [
       "            uniqueID         rating    usefulCount\n",
       "count  160398.000000  160398.000000  160398.000000\n",
       "mean   115957.147309       6.995923      28.097613\n",
       "std     67015.899492       3.272303      36.457876\n",
       "min         2.000000       1.000000       0.000000\n",
       "25%     58065.250000       5.000000       6.000000\n",
       "50%    115845.500000       8.000000      16.000000\n",
       "75%    173826.750000      10.000000      36.000000\n",
       "max    232291.000000      10.000000    1291.000000"
      ]
     },
     "execution_count": 4,
     "metadata": {},
     "output_type": "execute_result"
    }
   ],
   "source": [
    "df_processed.describe()"
   ]
  }
 ],
 "metadata": {
  "kernelspec": {
   "display_name": "Python 3",
   "language": "python",
   "name": "python3"
  },
  "language_info": {
   "codemirror_mode": {
    "name": "ipython",
    "version": 3
   },
   "file_extension": ".py",
   "mimetype": "text/x-python",
   "name": "python",
   "nbconvert_exporter": "python",
   "pygments_lexer": "ipython3",
   "version": "3.6.5"
  }
 },
 "nbformat": 4,
 "nbformat_minor": 2
}
