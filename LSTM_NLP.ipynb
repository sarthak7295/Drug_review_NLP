{
 "cells": [
  {
   "cell_type": "code",
   "execution_count": 1,
   "metadata": {
    "pycharm": {
     "is_executing": false
    }
   },
   "outputs": [],
   "source": [
    "import pandas as pd\n",
    "import numpy as np\n",
    "import review_preprocess\n",
    "from tensorflow.keras.models import Model,Sequential\n",
    "from tensorflow.keras.preprocessing.text import Tokenizer\n",
    "from tensorflow.keras.preprocessing.sequence import pad_sequences\n",
    "from tensorflow.keras.layers import Flatten, Dense, Dropout,Embedding,SpatialDropout1D,LSTM,Input, concatenate\n",
    "from tensorflow.keras.callbacks import EarlyStopping\n",
    "from tensorflow.python.keras.layers import CuDNNLSTM\n",
    "from sklearn import preprocessing"
   ]
  },
  {
   "cell_type": "code",
   "execution_count": 2,
   "metadata": {
    "pycharm": {
     "is_executing": false
    }
   },
   "outputs": [],
   "source": [
    "train_file_name = 'drugsComTrain_raw.csv'\n",
    "test_file_name = 'drugsComTest_raw.csv'\n",
    "file_path = './data/'\n",
    "\n",
    "df_test = pd.read_csv(file_path+test_file_name)\n",
    "df_train = pd.read_csv(file_path+train_file_name)"
   ]
  },
  {
   "cell_type": "code",
   "execution_count": 3,
   "metadata": {
    "pycharm": {
     "is_executing": true
    }
   },
   "outputs": [
    {
     "name": "stdout",
     "output_type": "stream",
     "text": [
      "Review cleanup Completed...aracters from review column--> 100.0 percentage complete\n",
      "Removing row with nan values\n",
      "Percentage of nan rows in dataset--> 0.56 %\n",
      "Removed 899 rows with na values\n"
     ]
    }
   ],
   "source": [
    "df_processed_train = review_preprocess.clean_reviews(df_train,is_lstm=True)"
   ]
  },
  {
   "cell_type": "code",
   "execution_count": 4,
   "metadata": {},
   "outputs": [
    {
     "name": "stdout",
     "output_type": "stream",
     "text": [
      "Review cleanup Completed...aracters from review column--> 100.0 percentage complete\n",
      "Removing row with nan values\n",
      "Percentage of nan rows in dataset--> 0.55 %\n",
      "Removed 295 rows with na values\n"
     ]
    }
   ],
   "source": [
    "df_processed_test = review_preprocess.clean_reviews(df_test,is_lstm=True)"
   ]
  },
  {
   "cell_type": "code",
   "execution_count": 5,
   "metadata": {},
   "outputs": [],
   "source": [
    "df_processed_train = pd.concat([df_processed_train, df_processed_test])"
   ]
  },
  {
   "cell_type": "code",
   "execution_count": 6,
   "metadata": {},
   "outputs": [
    {
     "data": {
      "text/html": [
       "<div>\n",
       "<style scoped>\n",
       "    .dataframe tbody tr th:only-of-type {\n",
       "        vertical-align: middle;\n",
       "    }\n",
       "\n",
       "    .dataframe tbody tr th {\n",
       "        vertical-align: top;\n",
       "    }\n",
       "\n",
       "    .dataframe thead th {\n",
       "        text-align: right;\n",
       "    }\n",
       "</style>\n",
       "<table border=\"1\" class=\"dataframe\">\n",
       "  <thead>\n",
       "    <tr style=\"text-align: right;\">\n",
       "      <th></th>\n",
       "      <th>uniqueID</th>\n",
       "      <th>rating</th>\n",
       "      <th>usefulCount</th>\n",
       "    </tr>\n",
       "  </thead>\n",
       "  <tbody>\n",
       "    <tr>\n",
       "      <th>count</th>\n",
       "      <td>213869.000000</td>\n",
       "      <td>213869.000000</td>\n",
       "      <td>213869.000000</td>\n",
       "    </tr>\n",
       "    <tr>\n",
       "      <th>mean</th>\n",
       "      <td>116076.924786</td>\n",
       "      <td>6.991149</td>\n",
       "      <td>28.094118</td>\n",
       "    </tr>\n",
       "    <tr>\n",
       "      <th>std</th>\n",
       "      <td>67016.705794</td>\n",
       "      <td>3.275792</td>\n",
       "      <td>36.401377</td>\n",
       "    </tr>\n",
       "    <tr>\n",
       "      <th>min</th>\n",
       "      <td>0.000000</td>\n",
       "      <td>1.000000</td>\n",
       "      <td>0.000000</td>\n",
       "    </tr>\n",
       "    <tr>\n",
       "      <th>25%</th>\n",
       "      <td>58122.000000</td>\n",
       "      <td>5.000000</td>\n",
       "      <td>6.000000</td>\n",
       "    </tr>\n",
       "    <tr>\n",
       "      <th>50%</th>\n",
       "      <td>115972.000000</td>\n",
       "      <td>8.000000</td>\n",
       "      <td>16.000000</td>\n",
       "    </tr>\n",
       "    <tr>\n",
       "      <th>75%</th>\n",
       "      <td>174018.000000</td>\n",
       "      <td>10.000000</td>\n",
       "      <td>36.000000</td>\n",
       "    </tr>\n",
       "    <tr>\n",
       "      <th>max</th>\n",
       "      <td>232291.000000</td>\n",
       "      <td>10.000000</td>\n",
       "      <td>1291.000000</td>\n",
       "    </tr>\n",
       "  </tbody>\n",
       "</table>\n",
       "</div>"
      ],
      "text/plain": [
       "            uniqueID         rating    usefulCount\n",
       "count  213869.000000  213869.000000  213869.000000\n",
       "mean   116076.924786       6.991149      28.094118\n",
       "std     67016.705794       3.275792      36.401377\n",
       "min         0.000000       1.000000       0.000000\n",
       "25%     58122.000000       5.000000       6.000000\n",
       "50%    115972.000000       8.000000      16.000000\n",
       "75%    174018.000000      10.000000      36.000000\n",
       "max    232291.000000      10.000000    1291.000000"
      ]
     },
     "execution_count": 6,
     "metadata": {},
     "output_type": "execute_result"
    }
   ],
   "source": [
    "df_processed_train.describe()"
   ]
  },
  {
   "cell_type": "code",
   "execution_count": 7,
   "metadata": {},
   "outputs": [
    {
     "name": "stdout",
     "output_type": "stream",
     "text": [
      "Max words in a review inside train set is  945\n",
      "Max words in a review inside test set is  540\n"
     ]
    }
   ],
   "source": [
    "m = 0\n",
    "for t in df_processed_train.review:\n",
    "    a = t.split()\n",
    "    if(len(a)>m):\n",
    "        m=len(a)\n",
    "print(\"Max words in a review inside train set is \",m)\n",
    "m = 0\n",
    "for t in df_processed_test.review:\n",
    "    a = t.split()\n",
    "    if(len(a)>m):\n",
    "        m=len(a)\n",
    "print(\"Max words in a review inside test set is \",m)"
   ]
  },
  {
   "cell_type": "code",
   "execution_count": 8,
   "metadata": {},
   "outputs": [
    {
     "name": "stdout",
     "output_type": "stream",
     "text": [
      "Total words combined in all train review  60624716\n",
      "Total unique words in all train review  98456\n"
     ]
    }
   ],
   "source": [
    "# number of unique words in review are \n",
    "# len(.values.split()))\n",
    "all_review = ' '.join(df_processed_train['review'])\n",
    "print(\"Total words combined in all train review \",len(all_review))\n",
    "print(\"Total unique words in all train review \",len(set(all_review.split(\" \"))))"
   ]
  },
  {
   "cell_type": "code",
   "execution_count": 9,
   "metadata": {},
   "outputs": [
    {
     "name": "stdout",
     "output_type": "stream",
     "text": [
      "Found 98228 unique tokens.\n"
     ]
    }
   ],
   "source": [
    "# The maximum number of words to be used. (most frequent)\n",
    "MAX_NB_WORDS = 50000\n",
    "# Max number of words in each complaint.\n",
    "MAX_SEQUENCE_LENGTH = 550\n",
    "# This is fixed.\n",
    "EMBEDDING_DIM = 100\n",
    "tokenizer = Tokenizer(num_words=MAX_NB_WORDS, filters='!\"#$%&()*+,-./:;<=>?@[\\]^_`{|}~', lower=True)\n",
    "tokenizer.fit_on_texts(df_processed_train['review'].values)\n",
    "word_index = tokenizer.word_index\n",
    "print('Found %s unique tokens.' % len(word_index))"
   ]
  },
  {
   "cell_type": "code",
   "execution_count": 10,
   "metadata": {},
   "outputs": [
    {
     "name": "stdout",
     "output_type": "stream",
     "text": [
      "Shape of data tensor: (213869, 550)\n"
     ]
    }
   ],
   "source": [
    "X_tr = tokenizer.texts_to_sequences(df_processed_train['review'].values)\n",
    "X_tr = pad_sequences(X_tr, maxlen=MAX_SEQUENCE_LENGTH)\n",
    "print('Shape of data tensor:', X_tr.shape)"
   ]
  },
  {
   "cell_type": "code",
   "execution_count": 11,
   "metadata": {},
   "outputs": [],
   "source": [
    "# from sklearn.feature_extraction.text import HashingVectorizer\n",
    "# from sklearn.feature_extraction.text import TfidfVectorizer\n",
    "\n",
    "# tfidf_vectorizer = TfidfVectorizer(max_features=2500)#max_features=4000\n",
    "# x_tfidf = tfidf_vectorizer.fit_transform(df_processed_train.review)\n",
    "\n",
    "# hash_vectorizer = HashingVectorizer(n_features=1000)#n_features=100\n",
    "# x_hash = hash_vectorizer.fit_transform(df_processed_train.review)"
   ]
  },
  {
   "cell_type": "code",
   "execution_count": 12,
   "metadata": {},
   "outputs": [],
   "source": [
    "# print(\"TFIDF  \",x_tfidf.shape)\n",
    "# print(\"hash  \",x_hash.shape)"
   ]
  },
  {
   "cell_type": "code",
   "execution_count": 13,
   "metadata": {},
   "outputs": [],
   "source": [
    "df_processed_train.rating\n",
    "y_train = pd.get_dummies(df_processed_train.rating).values\n"
   ]
  },
  {
   "cell_type": "code",
   "execution_count": 14,
   "metadata": {},
   "outputs": [
    {
     "data": {
      "text/plain": [
       "(213869, 10)"
      ]
     },
     "execution_count": 14,
     "metadata": {},
     "output_type": "execute_result"
    }
   ],
   "source": [
    "y_train.shape"
   ]
  },
  {
   "cell_type": "code",
   "execution_count": 15,
   "metadata": {},
   "outputs": [],
   "source": [
    "# model1 = Sequential()\n",
    "# model1.add(Embedding(MAX_NB_WORDS, EMBEDDING_DIM, input_length=X_tr.shape[1],name=\"E1\"))\n",
    "# model1.add(SpatialDropout1D(0.2))\n",
    "# model1.add(LSTM(100, dropout=0.2, recurrent_dropout=0.2))\n",
    "# model1.add(Dense(10, activation='softmax',name='d1'))\n",
    "# model1.summary()"
   ]
  },
  {
   "cell_type": "code",
   "execution_count": 16,
   "metadata": {},
   "outputs": [],
   "source": [
    "# MAX_NB_WORDS = 500\n",
    "# # Max number of words in each complaint.\n",
    "# MAX_SEQUENCE_LENGTH = 200\n",
    "# # This is fixed.\n",
    "# EMBEDDING_DIM = 128\n",
    "meta_in = Input(shape=(3,))\n",
    "x = Dense(5, activation=\"relu\")(meta_in)\n",
    "x = Model(inputs=meta_in, outputs=x)\n",
    "\n",
    "\n",
    "model = Sequential()\n",
    "model.add(Embedding(MAX_NB_WORDS, EMBEDDING_DIM, input_length=X_tr.shape[1],name=\"E1\"))\n",
    "model.add(SpatialDropout1D(0.2))\n",
    "model.add(CuDNNLSTM(250))\n",
    "model.add(Dense(25, activation='relu',name='d1'))\n",
    "# model.add(Dense(10, activation='softmax'))\n",
    "combined = concatenate([x.output, model.output])\n",
    "prediction = Dense(10, activation='softmax')(combined)\n",
    "model_meta = Model(inputs=[model.input, meta_in], outputs=prediction)"
   ]
  },
  {
   "cell_type": "code",
   "execution_count": 17,
   "metadata": {},
   "outputs": [
    {
     "name": "stdout",
     "output_type": "stream",
     "text": [
      "Model: \"model_1\"\n",
      "__________________________________________________________________________________________________\n",
      "Layer (type)                    Output Shape         Param #     Connected to                     \n",
      "==================================================================================================\n",
      "E1_input (InputLayer)           [(None, 550)]        0                                            \n",
      "__________________________________________________________________________________________________\n",
      "E1 (Embedding)                  (None, 550, 100)     5000000     E1_input[0][0]                   \n",
      "__________________________________________________________________________________________________\n",
      "spatial_dropout1d (SpatialDropo (None, 550, 100)     0           E1[0][0]                         \n",
      "__________________________________________________________________________________________________\n",
      "input_1 (InputLayer)            [(None, 3)]          0                                            \n",
      "__________________________________________________________________________________________________\n",
      "cu_dnnlstm (CuDNNLSTM)          (None, 250)          352000      spatial_dropout1d[0][0]          \n",
      "__________________________________________________________________________________________________\n",
      "dense (Dense)                   (None, 5)            20          input_1[0][0]                    \n",
      "__________________________________________________________________________________________________\n",
      "d1 (Dense)                      (None, 25)           6275        cu_dnnlstm[0][0]                 \n",
      "__________________________________________________________________________________________________\n",
      "concatenate (Concatenate)       (None, 30)           0           dense[0][0]                      \n",
      "                                                                 d1[0][0]                         \n",
      "__________________________________________________________________________________________________\n",
      "dense_1 (Dense)                 (None, 10)           310         concatenate[0][0]                \n",
      "==================================================================================================\n",
      "Total params: 5,358,605\n",
      "Trainable params: 5,358,605\n",
      "Non-trainable params: 0\n",
      "__________________________________________________________________________________________________\n"
     ]
    }
   ],
   "source": [
    "model_meta.summary()"
   ]
  },
  {
   "cell_type": "code",
   "execution_count": 18,
   "metadata": {},
   "outputs": [
    {
     "data": {
      "text/plain": [
       "(213869, 3)"
      ]
     },
     "execution_count": 18,
     "metadata": {},
     "output_type": "execute_result"
    }
   ],
   "source": [
    "# df_processed_train[[\"usefulCount\",\"condition\",\"drugName\"]]\n",
    "\n",
    "le = preprocessing.LabelEncoder()\n",
    "df_processed_train[\"drugName\"] = le.fit_transform(df_processed_train[\"drugName\"])\n",
    "df_processed_train[\"condition\"] = le.fit_transform(df_processed_train[\"condition\"])\n",
    "df_processed_train[[\"usefulCount\",\"condition\",\"drugName\"]].values.shape"
   ]
  },
  {
   "cell_type": "code",
   "execution_count": 19,
   "metadata": {},
   "outputs": [
    {
     "data": {
      "text/plain": [
       "(213869, 3)"
      ]
     },
     "execution_count": 19,
     "metadata": {},
     "output_type": "execute_result"
    }
   ],
   "source": [
    "df_processed_train[[\"usefulCount\",\"condition\",\"drugName\"]].values.shape"
   ]
  },
  {
   "cell_type": "code",
   "execution_count": 20,
   "metadata": {},
   "outputs": [
    {
     "name": "stdout",
     "output_type": "stream",
     "text": [
      "(213869, 550)\n",
      "(213869, 10)\n",
      "(53471, 3)\n",
      "(213869, 3)\n"
     ]
    }
   ],
   "source": [
    "print(X_tr.shape)\n",
    "print(y_train.shape)\n",
    "print(df_processed_test[[\"usefulCount\",\"condition\",\"drugName\"]].values.shape)\n",
    "print(df_processed_train[[\"usefulCount\",\"condition\",\"drugName\"]].values.shape)"
   ]
  },
  {
   "cell_type": "code",
   "execution_count": null,
   "metadata": {},
   "outputs": [
    {
     "name": "stdout",
     "output_type": "stream",
     "text": [
      "Train on 171095 samples, validate on 42774 samples\n",
      "Epoch 1/10\n",
      " 49152/171095 [=======>......................] - ETA: 3:09 - loss: 52.5753 - accuracy: 0.2064"
     ]
    }
   ],
   "source": [
    "model_meta.compile(loss='categorical_crossentropy', optimizer='adam', metrics=['accuracy'])\n",
    " \n",
    "epochs = 10\n",
    "batch_size = 256\n",
    "history = model_meta.\\\n",
    "fit((X_tr,df_processed_train[[\"usefulCount\",\"condition\",\"drugName\"]].values), y_train,\\\n",
    "                         epochs=epochs, batch_size=batch_size,\\\n",
    "                            validation_split=0.2,\\\n",
    "                         callbacks=[EarlyStopping(monitor='val_loss', patience=3, min_delta=0.0001)])"
   ]
  }
 ],
 "metadata": {
  "kernelspec": {
   "display_name": "Python 3",
   "language": "python",
   "name": "python3"
  },
  "language_info": {
   "codemirror_mode": {
    "name": "ipython",
    "version": 3
   },
   "file_extension": ".py",
   "mimetype": "text/x-python",
   "name": "python",
   "nbconvert_exporter": "python",
   "pygments_lexer": "ipython3",
   "version": "3.6.5"
  },
  "pycharm": {
   "stem_cell": {
    "cell_type": "raw",
    "metadata": {
     "collapsed": false
    },
    "source": []
   }
  }
 },
 "nbformat": 4,
 "nbformat_minor": 2
}
