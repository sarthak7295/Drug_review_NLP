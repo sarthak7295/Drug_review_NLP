{
 "cells": [
  {
   "cell_type": "code",
   "execution_count": 48,
   "metadata": {},
   "outputs": [
    {
     "name": "stdout",
     "output_type": "stream",
     "text": [
      "Setup Done..\n"
     ]
    }
   ],
   "source": [
    "import matplotlib.pyplot as plt\n",
    "import pandas as pd\n",
    "import numpy as np\n",
    "import nltk\n",
    "from itertools import cycle, islice\n",
    "from nltk.sentiment.vader import SentimentIntensityAnalyzer\n",
    "from sklearn.feature_extraction.text import TfidfVectorizer\n",
    "from sklearn.ensemble import RandomForestClassifier\n",
    "from sklearn.metrics import confusion_matrix\n",
    "import review_preprocess\n",
    "import summarize_review\n",
    "import keras\n",
    "from keras.models import Sequential\n",
    "from keras.layers import Dense, Activation, Dropout, BatchNormalization\n",
    "from keras.optimizers import Adam\n",
    "from keras.callbacks import EarlyStopping, ReduceLROnPlateau\n",
    "from sklearn.preprocessing import OneHotEncoder\n",
    "\n",
    "print(\"Setup Done..\")"
   ]
  },
  {
   "cell_type": "code",
   "execution_count": 29,
   "metadata": {},
   "outputs": [],
   "source": [
    "train_file_name = 'drugsComTrain_raw.csv'\n",
    "test_file_name = 'drugsComTest_raw.csv'\n",
    "file_path = '../../data/'\n",
    "\n",
    "df_test = pd.read_csv(file_path+test_file_name)\n",
    "df_train = pd.read_csv(file_path+train_file_name)"
   ]
  },
  {
   "cell_type": "code",
   "execution_count": 30,
   "metadata": {},
   "outputs": [
    {
     "name": "stdout",
     "output_type": "stream",
     "text": [
      "Review cleanup Completed...aracters from review column--> 100.0 percentage complete\n",
      "Removing row with nan values\n",
      "Percentage of nan rows in dataset--> 0.55 %\n",
      "Removed 295 rows with na values\n",
      "Review cleanup Completed...aracters from review column--> 100.0 percentage complete\n",
      "Removing row with nan values\n",
      "Percentage of nan rows in dataset--> 0.56 %\n",
      "Removed 899 rows with na values\n"
     ]
    }
   ],
   "source": [
    "df_test = review_preprocess.clean_reviews(df_test)\n",
    "df_train = review_preprocess.clean_reviews(df_train)"
   ]
  },
  {
   "cell_type": "code",
   "execution_count": 31,
   "metadata": {},
   "outputs": [],
   "source": [
    "rows,_ = df_train.shape\n",
    "my_list=[]\n",
    "summary_v=np.vectorize(summarize_review.summarize)\n",
    "short_review = summary_v(df_train.review.values)"
   ]
  },
  {
   "cell_type": "code",
   "execution_count": 33,
   "metadata": {},
   "outputs": [],
   "source": [
    "short_review_test = summary_v(df_test.review.values)\n",
    "df_test[\"summarize\"] = short_review_test"
   ]
  },
  {
   "cell_type": "code",
   "execution_count": 32,
   "metadata": {},
   "outputs": [],
   "source": [
    "df_train[\"summarize\"] = short_review"
   ]
  },
  {
   "cell_type": "code",
   "execution_count": 34,
   "metadata": {},
   "outputs": [
    {
     "name": "stdout",
     "output_type": "stream",
     "text": [
      "2nd day on 5mg started to work with rock hard erections however experianced headache lower bowel preassure. 3rd day erections would wake me up & hurt! Legankles aches   severe lower bowel preassure like you need to go 2 but cant! Enjoyed the initial rockhard erections but not at these side effects or $230 for months supply! Im 50 & work out 3Xs a week. Not worth side effects!\n",
      " 3rd day erections would wake me up & hurt! Not worth side effects!\n"
     ]
    }
   ],
   "source": [
    "print(df_train[['review','summarize']].iloc[5]['review'])\n",
    "print(df_train[['review','summarize']].iloc[5]['summarize'])\n"
   ]
  },
  {
   "cell_type": "code",
   "execution_count": 41,
   "metadata": {},
   "outputs": [
    {
     "data": {
      "text/html": [
       "<div>\n",
       "<style scoped>\n",
       "    .dataframe tbody tr th:only-of-type {\n",
       "        vertical-align: middle;\n",
       "    }\n",
       "\n",
       "    .dataframe tbody tr th {\n",
       "        vertical-align: top;\n",
       "    }\n",
       "\n",
       "    .dataframe thead th {\n",
       "        text-align: right;\n",
       "    }\n",
       "</style>\n",
       "<table border=\"1\" class=\"dataframe\">\n",
       "  <thead>\n",
       "    <tr style=\"text-align: right;\">\n",
       "      <th></th>\n",
       "      <th>uniqueID</th>\n",
       "      <th>drugName</th>\n",
       "      <th>condition</th>\n",
       "      <th>review</th>\n",
       "      <th>rating</th>\n",
       "      <th>date</th>\n",
       "      <th>usefulCount</th>\n",
       "      <th>summarize</th>\n",
       "    </tr>\n",
       "  </thead>\n",
       "  <tbody>\n",
       "    <tr>\n",
       "      <td>0</td>\n",
       "      <td>206461</td>\n",
       "      <td>Valsartan</td>\n",
       "      <td>Left Ventricular Dysfunction</td>\n",
       "      <td>It has no side effect I take it in combination...</td>\n",
       "      <td>9</td>\n",
       "      <td>20-May-12</td>\n",
       "      <td>27</td>\n",
       "      <td>It has no side effect I take it in combinatio...</td>\n",
       "    </tr>\n",
       "    <tr>\n",
       "      <td>1</td>\n",
       "      <td>95260</td>\n",
       "      <td>Guanfacine</td>\n",
       "      <td>ADHD</td>\n",
       "      <td>My son is halfway through his fourth week of I...</td>\n",
       "      <td>8</td>\n",
       "      <td>27-Apr-10</td>\n",
       "      <td>192</td>\n",
       "      <td>See how he did at school and with getting up ...</td>\n",
       "    </tr>\n",
       "    <tr>\n",
       "      <td>2</td>\n",
       "      <td>92703</td>\n",
       "      <td>Lybrel</td>\n",
       "      <td>Birth Control</td>\n",
       "      <td>I used to take another oral contraceptive whic...</td>\n",
       "      <td>5</td>\n",
       "      <td>14-Dec-09</td>\n",
       "      <td>17</td>\n",
       "      <td>And the period lasted for two weeks. The idea...</td>\n",
       "    </tr>\n",
       "    <tr>\n",
       "      <td>3</td>\n",
       "      <td>138000</td>\n",
       "      <td>Ortho Evra</td>\n",
       "      <td>Birth Control</td>\n",
       "      <td>This is my first time using any form of birth ...</td>\n",
       "      <td>8</td>\n",
       "      <td>3-Nov-15</td>\n",
       "      <td>10</td>\n",
       "      <td>This is my first time using any form of birth...</td>\n",
       "    </tr>\n",
       "    <tr>\n",
       "      <td>4</td>\n",
       "      <td>35696</td>\n",
       "      <td>Buprenorphine / naloxone</td>\n",
       "      <td>Opiate Dependence</td>\n",
       "      <td>Suboxone has completely turned my life around....</td>\n",
       "      <td>9</td>\n",
       "      <td>27-Nov-16</td>\n",
       "      <td>37</td>\n",
       "      <td>All that is history. Im actually sleeping bet...</td>\n",
       "    </tr>\n",
       "  </tbody>\n",
       "</table>\n",
       "</div>"
      ],
      "text/plain": [
       "   uniqueID                  drugName                     condition  \\\n",
       "0    206461                 Valsartan  Left Ventricular Dysfunction   \n",
       "1     95260                Guanfacine                          ADHD   \n",
       "2     92703                    Lybrel                 Birth Control   \n",
       "3    138000                Ortho Evra                 Birth Control   \n",
       "4     35696  Buprenorphine / naloxone             Opiate Dependence   \n",
       "\n",
       "                                              review  rating       date  \\\n",
       "0  It has no side effect I take it in combination...       9  20-May-12   \n",
       "1  My son is halfway through his fourth week of I...       8  27-Apr-10   \n",
       "2  I used to take another oral contraceptive whic...       5  14-Dec-09   \n",
       "3  This is my first time using any form of birth ...       8   3-Nov-15   \n",
       "4  Suboxone has completely turned my life around....       9  27-Nov-16   \n",
       "\n",
       "   usefulCount                                          summarize  \n",
       "0           27   It has no side effect I take it in combinatio...  \n",
       "1          192   See how he did at school and with getting up ...  \n",
       "2           17   And the period lasted for two weeks. The idea...  \n",
       "3           10   This is my first time using any form of birth...  \n",
       "4           37   All that is history. Im actually sleeping bet...  "
      ]
     },
     "execution_count": 41,
     "metadata": {},
     "output_type": "execute_result"
    }
   ],
   "source": [
    "df_train.head()"
   ]
  },
  {
   "cell_type": "code",
   "execution_count": 15,
   "metadata": {},
   "outputs": [],
   "source": [
    "# # Creates TF-IDF vectorizer and transforms the corpus\n",
    "# vectorizer = TfidfVectorizer()\n",
    "# X_train = vectorizer.fit_transform(df_train.review)\n",
    "\n",
    "# # transforms test reviews to above vectorized format\n",
    "# X_test = vectorizer.transform(df_test.review)"
   ]
  },
  {
   "cell_type": "code",
   "execution_count": 16,
   "metadata": {},
   "outputs": [
    {
     "data": {
      "text/plain": [
       "(53766, 49899)"
      ]
     },
     "execution_count": 16,
     "metadata": {},
     "output_type": "execute_result"
    }
   ],
   "source": [
    "X_test.shape"
   ]
  },
  {
   "cell_type": "code",
   "execution_count": 35,
   "metadata": {},
   "outputs": [],
   "source": [
    "# Creates TF-IDF vectorizer and transforms the corpus\n",
    "vectorizer = TfidfVectorizer()\n",
    "X_train = vectorizer.fit_transform(df_train.summarize)\n",
    "\n",
    "# transforms test reviews to above vectorized format\n",
    "X_test = vectorizer.transform(df_test.summarize)"
   ]
  },
  {
   "cell_type": "code",
   "execution_count": 36,
   "metadata": {},
   "outputs": [
    {
     "data": {
      "text/plain": [
       "(160398, 34136)"
      ]
     },
     "execution_count": 36,
     "metadata": {},
     "output_type": "execute_result"
    }
   ],
   "source": [
    "X_test.shape\n",
    "X_train.shape"
   ]
  },
  {
   "cell_type": "code",
   "execution_count": 37,
   "metadata": {},
   "outputs": [],
   "source": [
    "y_train = df_train.rating.copy(deep=True)\n",
    "y_test = df_test.rating.copy(deep=True)\n"
   ]
  },
  {
   "cell_type": "code",
   "execution_count": 52,
   "metadata": {},
   "outputs": [],
   "source": [
    "oe = OneHotEncoder()\n",
    "\n",
    "y_tr = oe.fit_transform(np.array(y_train).reshape(-1,1))\n",
    "y_ts = oe.transform(np.array(y_test).reshape(-1,1))"
   ]
  },
  {
   "cell_type": "code",
   "execution_count": 53,
   "metadata": {},
   "outputs": [
    {
     "data": {
      "text/plain": [
       "(160398, 10)"
      ]
     },
     "execution_count": 53,
     "metadata": {},
     "output_type": "execute_result"
    }
   ],
   "source": [
    "y_tr.shape"
   ]
  },
  {
   "cell_type": "code",
   "execution_count": 38,
   "metadata": {},
   "outputs": [
    {
     "data": {
      "text/plain": [
       "0          9\n",
       "1          8\n",
       "2          5\n",
       "3          8\n",
       "4          9\n",
       "          ..\n",
       "161292    10\n",
       "161293     1\n",
       "161294     2\n",
       "161295    10\n",
       "161296     9\n",
       "Name: rating, Length: 160398, dtype: int64"
      ]
     },
     "execution_count": 38,
     "metadata": {},
     "output_type": "execute_result"
    }
   ],
   "source": [
    "y_train"
   ]
  },
  {
   "cell_type": "code",
   "execution_count": 39,
   "metadata": {},
   "outputs": [
    {
     "name": "stdout",
     "output_type": "stream",
     "text": [
      "building tree 1 of 50building tree 2 of 50\n",
      "building tree 3 of 50\n",
      "building tree 4 of 50\n",
      "\n",
      "building tree 5 of 50\n",
      "building tree 6 of 50\n",
      "building tree 7 of 50\n",
      "building tree 8 of 50\n",
      "building tree 9 of 50\n",
      "building tree 10 of 50building tree 11 of 50\n",
      "\n",
      "building tree 12 of 50\n",
      "building tree 13 of 50\n",
      "building tree 14 of 50\n",
      "building tree 15 of 50\n",
      "building tree 16 of 50\n",
      "building tree 17 of 50\n",
      "building tree 18 of 50\n",
      "building tree 19 of 50\n",
      "building tree 20 of 50\n",
      "building tree 21 of 50\n",
      "building tree 22 of 50\n",
      "building tree 23 of 50\n",
      "building tree 24 of 50\n",
      "building tree 25 of 50\n",
      "building tree 26 of 50\n",
      "building tree 27 of 50\n",
      "building tree 28 of 50\n",
      "building tree 29 of 50\n",
      "building tree 30 of 50\n",
      "building tree 31 of 50\n",
      "building tree 32 of 50\n"
     ]
    },
    {
     "name": "stderr",
     "output_type": "stream",
     "text": [
      "[Parallel(n_jobs=-1)]: Done  25 tasks      | elapsed:  3.4min\n"
     ]
    },
    {
     "name": "stdout",
     "output_type": "stream",
     "text": [
      "building tree 33 of 50\n",
      "building tree 34 of 50\n",
      "building tree 35 of 50\n",
      "building tree 36 of 50\n",
      "building tree 37 of 50\n",
      "building tree 38 of 50\n",
      "building tree 39 of 50\n",
      "building tree 40 of 50\n",
      "building tree 41 of 50\n",
      "building tree 42 of 50\n",
      "building tree 43 of 50\n",
      "building tree 44 of 50\n",
      "building tree 45 of 50\n",
      "building tree 46 of 50\n",
      "building tree 47 of 50\n",
      "building tree 48 of 50\n",
      "building tree 49 of 50\n",
      "building tree 50 of 50\n",
      "Wall time: 5min 30s\n"
     ]
    },
    {
     "name": "stderr",
     "output_type": "stream",
     "text": [
      "[Parallel(n_jobs=-1)]: Done  50 out of  50 | elapsed:  5.5min finished\n"
     ]
    }
   ],
   "source": [
    "%%time\n",
    "# vectorizer.get_feature_names()\n",
    "rfc_rating = RandomForestClassifier(n_estimators=50, random_state=42,max_features=442,n_jobs=-1,verbose=2 )\n",
    "rfc_rating.fit(X_train, y_train)\n",
    "\n"
   ]
  },
  {
   "cell_type": "code",
   "execution_count": 42,
   "metadata": {},
   "outputs": [
    {
     "data": {
      "text/plain": [
       "(53471, 34136)"
      ]
     },
     "execution_count": 42,
     "metadata": {},
     "output_type": "execute_result"
    }
   ],
   "source": [
    "X_test.shape"
   ]
  },
  {
   "cell_type": "code",
   "execution_count": 40,
   "metadata": {},
   "outputs": [
    {
     "name": "stderr",
     "output_type": "stream",
     "text": [
      "[Parallel(n_jobs=8)]: Done  25 tasks      | elapsed:    0.3s\n",
      "[Parallel(n_jobs=8)]: Done  50 out of  50 | elapsed:    0.6s finished\n",
      "[Parallel(n_jobs=8)]: Done  25 tasks      | elapsed:    0.3s\n"
     ]
    },
    {
     "name": "stdout",
     "output_type": "stream",
     "text": [
      "Accuracy: 0.7352396626208599\n"
     ]
    },
    {
     "name": "stderr",
     "output_type": "stream",
     "text": [
      "[Parallel(n_jobs=8)]: Done  50 out of  50 | elapsed:    0.6s finished\n"
     ]
    }
   ],
   "source": [
    "pred = rfc_rating.predict(X_test)\n",
    "\n",
    "print(\"Accuracy: %s\" % str(rfc_rating.score(X_test, y_test)))"
   ]
  },
  {
   "cell_type": "code",
   "execution_count": 28,
   "metadata": {},
   "outputs": [
    {
     "name": "stdout",
     "output_type": "stream",
     "text": [
      "             precision    recall  f1-score   support\n",
      "\n",
      "    class 0       0.76      0.77      0.76      7299\n",
      "    class 1       0.97      0.63      0.76      2334\n",
      "    class 2       0.97      0.63      0.76      2205\n",
      "    class 3       0.98      0.63      0.76      1659\n",
      "    class 4       0.98      0.60      0.75      2710\n",
      "    class 5       0.98      0.59      0.73      2119\n",
      "    class 6       0.97      0.58      0.73      3091\n",
      "    class 7       0.90      0.61      0.73      6156\n",
      "    class 8       0.81      0.62      0.70      9177\n",
      "    class 9       0.61      0.95      0.75     17016\n",
      "\n",
      "avg / total       0.79      0.74      0.74     53766\n",
      "\n"
     ]
    }
   ],
   "source": [
    "from sklearn.metrics import classification_report\n",
    "\n",
    "target_names = ['class 0', 'class 1', 'class 2','class 3',\\\n",
    "                'class 4', 'class 5','class 6', 'class 7', 'class 8','class 9']\n",
    "print(classification_report(y_test, pred, target_names=target_names))"
   ]
  },
  {
   "cell_type": "code",
   "execution_count": 44,
   "metadata": {},
   "outputs": [
    {
     "name": "stdout",
     "output_type": "stream",
     "text": [
      "Model: \"sequential_1\"\n",
      "_________________________________________________________________\n",
      "Layer (type)                 Output Shape              Param #   \n",
      "=================================================================\n",
      "dense_1 (Dense)              (None, 500)               17068500  \n",
      "_________________________________________________________________\n",
      "batch_normalization_1 (Batch (None, 500)               2000      \n",
      "_________________________________________________________________\n",
      "activation_1 (Activation)    (None, 500)               0         \n",
      "_________________________________________________________________\n",
      "dropout_1 (Dropout)          (None, 500)               0         \n",
      "_________________________________________________________________\n",
      "dense_2 (Dense)              (None, 300)               150300    \n",
      "_________________________________________________________________\n",
      "batch_normalization_2 (Batch (None, 300)               1200      \n",
      "_________________________________________________________________\n",
      "activation_2 (Activation)    (None, 300)               0         \n",
      "_________________________________________________________________\n",
      "dropout_2 (Dropout)          (None, 300)               0         \n",
      "_________________________________________________________________\n",
      "dense_3 (Dense)              (None, 10)                3010      \n",
      "=================================================================\n",
      "Total params: 17,225,010\n",
      "Trainable params: 17,223,410\n",
      "Non-trainable params: 1,600\n",
      "_________________________________________________________________\n"
     ]
    }
   ],
   "source": [
    "model = Sequential()\n",
    "\n",
    "# Dense-1\n",
    "model.add(Dense(500, input_shape=(X_train.shape[1],)))\n",
    "model.add(BatchNormalization())\n",
    "model.add(Activation('relu'))\n",
    "model.add(Dropout(0.5))\n",
    "\n",
    "# Dense-2\n",
    "model.add(Dense(300))\n",
    "model.add(BatchNormalization())\n",
    "model.add(Activation('relu'))\n",
    "model.add(Dropout(0.5))\n",
    "\n",
    "# Dense-3\n",
    "model.add(Dense(10, activation='sigmoid'))\n",
    "\n",
    "model.compile(loss='categorical_crossentropy', metrics=['acc'], optimizer=Adam(lr=0.01))\n",
    "\n",
    "model.summary()"
   ]
  },
  {
   "cell_type": "code",
   "execution_count": 54,
   "metadata": {},
   "outputs": [
    {
     "name": "stdout",
     "output_type": "stream",
     "text": [
      "Train on 160398 samples, validate on 53471 samples\n",
      "Epoch 1/20\n",
      "160398/160398 [==============================] - 366s 2ms/step - loss: 1.7900 - acc: 0.3673 - val_loss: 1.6527 - val_acc: 0.4101\n",
      "Epoch 2/20\n",
      "160398/160398 [==============================] - 364s 2ms/step - loss: 1.5266 - acc: 0.4565 - val_loss: 1.5482 - val_acc: 0.4699\n",
      "Epoch 3/20\n",
      "160398/160398 [==============================] - 475s 3ms/step - loss: 1.2882 - acc: 0.5512 - val_loss: 1.4274 - val_acc: 0.5301\n",
      "Epoch 4/20\n",
      "160398/160398 [==============================] - 351s 2ms/step - loss: 1.0600 - acc: 0.6374 - val_loss: 1.3382 - val_acc: 0.5743\n",
      "Epoch 5/20\n",
      "160398/160398 [==============================] - 10812s 67ms/step - loss: 0.8967 - acc: 0.6981 - val_loss: 1.2798 - val_acc: 0.6058\n",
      "Epoch 6/20\n",
      "160398/160398 [==============================] - 356s 2ms/step - loss: 0.7809 - acc: 0.7380 - val_loss: 1.2464 - val_acc: 0.6314\n",
      "Epoch 7/20\n",
      "160398/160398 [==============================] - 357s 2ms/step - loss: 0.6881 - acc: 0.7727 - val_loss: 1.2313 - val_acc: 0.6455\n",
      "Epoch 8/20\n",
      "160398/160398 [==============================] - 360s 2ms/step - loss: 0.6162 - acc: 0.7964 - val_loss: 1.1972 - val_acc: 0.6631\n",
      "Epoch 9/20\n",
      "160398/160398 [==============================] - 266s 2ms/step - loss: 0.5638 - acc: 0.8150 - val_loss: 1.2114 - val_acc: 0.6702\n",
      "Epoch 10/20\n",
      "160398/160398 [==============================] - 235s 1ms/step - loss: 0.5222 - acc: 0.8295 - val_loss: 1.2083 - val_acc: 0.6801\n",
      "Epoch 11/20\n",
      "160398/160398 [==============================] - 233s 1ms/step - loss: 0.4850 - acc: 0.8411 - val_loss: 1.2049 - val_acc: 0.6841\n",
      "Epoch 12/20\n",
      "160398/160398 [==============================] - 233s 1ms/step - loss: 0.4583 - acc: 0.8512 - val_loss: 1.1850 - val_acc: 0.6873\n",
      "Epoch 13/20\n",
      "160398/160398 [==============================] - 233s 1ms/step - loss: 0.4329 - acc: 0.8582 - val_loss: 1.2042 - val_acc: 0.6929\n",
      "Epoch 14/20\n",
      "160398/160398 [==============================] - 233s 1ms/step - loss: 0.4136 - acc: 0.8638 - val_loss: 1.2031 - val_acc: 0.6956\n",
      "Epoch 15/20\n",
      "160398/160398 [==============================] - 42832s 267ms/step - loss: 0.3934 - acc: 0.8723 - val_loss: 1.1996 - val_acc: 0.6978\n",
      "Epoch 16/20\n",
      "160398/160398 [==============================] - 209s 1ms/step - loss: 0.3748 - acc: 0.8774 - val_loss: 1.2128 - val_acc: 0.7003\n",
      "Epoch 17/20\n",
      "160398/160398 [==============================] - 204s 1ms/step - loss: 0.3634 - acc: 0.8812 - val_loss: 1.2202 - val_acc: 0.7017\n",
      "Epoch 18/20\n",
      "160398/160398 [==============================] - 205s 1ms/step - loss: 0.3501 - acc: 0.8865 - val_loss: 1.2465 - val_acc: 0.7048\n",
      "Epoch 19/20\n",
      "160398/160398 [==============================] - 205s 1ms/step - loss: 0.3401 - acc: 0.8891 - val_loss: 1.2397 - val_acc: 0.7056\n",
      "Epoch 20/20\n",
      "160398/160398 [==============================] - 202s 1ms/step - loss: 0.3283 - acc: 0.8929 - val_loss: 1.2454 - val_acc: 0.7081\n"
     ]
    }
   ],
   "source": [
    "model_history = model.fit(X_train, y_tr, epochs=20, batch_size=256, validation_data=(X_test, y_ts))  "
   ]
  }
 ],
 "metadata": {
  "kernelspec": {
   "display_name": "Python 3",
   "language": "python",
   "name": "python3"
  },
  "language_info": {
   "codemirror_mode": {
    "name": "ipython",
    "version": 3
   },
   "file_extension": ".py",
   "mimetype": "text/x-python",
   "name": "python",
   "nbconvert_exporter": "python",
   "pygments_lexer": "ipython3",
   "version": "3.6.5"
  }
 },
 "nbformat": 4,
 "nbformat_minor": 2
}
