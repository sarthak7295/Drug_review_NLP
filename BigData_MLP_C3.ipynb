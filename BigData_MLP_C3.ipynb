{
 "cells": [
  {
   "cell_type": "code",
   "execution_count": 1,
   "metadata": {},
   "outputs": [
    {
     "name": "stderr",
     "output_type": "stream",
     "text": [
      "C:\\Users\\Manik\\Anaconda3\\lib\\site-packages\\h5py\\__init__.py:34: FutureWarning: Conversion of the second argument of issubdtype from `float` to `np.floating` is deprecated. In future, it will be treated as `np.float64 == np.dtype(float).type`.\n",
      "  from ._conv import register_converters as _register_converters\n",
      "Using TensorFlow backend.\n"
     ]
    }
   ],
   "source": [
    "import matplotlib.pyplot as plt\n",
    "import pandas as pd\n",
    "import numpy as np\n",
    "import nltk\n",
    "from itertools import cycle, islice\n",
    "from nltk.sentiment.vader import SentimentIntensityAnalyzer\n",
    "from sklearn.feature_extraction.text import TfidfVectorizer, TfidfTransformer, CountVectorizer, HashingVectorizer\n",
    "from sklearn.ensemble import RandomForestClassifier\n",
    "from sklearn.metrics import confusion_matrix\n",
    "import keras\n",
    "from keras.models import Sequential\n",
    "from keras.layers import Dense, Activation, Dropout, BatchNormalization\n",
    "import gc"
   ]
  },
  {
   "cell_type": "code",
   "execution_count": 2,
   "metadata": {
    "collapsed": true
   },
   "outputs": [],
   "source": [
    "train_file_name = 'drugsComTrain_raw.csv'\n",
    "test_file_name = 'drugsComTest_raw.csv'\n",
    "file_path = './data/'\n",
    "\n",
    "df_test = pd.read_csv(file_path+test_file_name)\n",
    "df_train = pd.read_csv(file_path+train_file_name)"
   ]
  },
  {
   "cell_type": "code",
   "execution_count": 3,
   "metadata": {},
   "outputs": [
    {
     "data": {
      "text/html": [
       "<div>\n",
       "<style scoped>\n",
       "    .dataframe tbody tr th:only-of-type {\n",
       "        vertical-align: middle;\n",
       "    }\n",
       "\n",
       "    .dataframe tbody tr th {\n",
       "        vertical-align: top;\n",
       "    }\n",
       "\n",
       "    .dataframe thead th {\n",
       "        text-align: right;\n",
       "    }\n",
       "</style>\n",
       "<table border=\"1\" class=\"dataframe\">\n",
       "  <thead>\n",
       "    <tr style=\"text-align: right;\">\n",
       "      <th></th>\n",
       "      <th>uniqueID</th>\n",
       "      <th>drugName</th>\n",
       "      <th>condition</th>\n",
       "      <th>review</th>\n",
       "      <th>rating</th>\n",
       "      <th>date</th>\n",
       "      <th>usefulCount</th>\n",
       "    </tr>\n",
       "  </thead>\n",
       "  <tbody>\n",
       "    <tr>\n",
       "      <td>0</td>\n",
       "      <td>206461</td>\n",
       "      <td>Valsartan</td>\n",
       "      <td>Left Ventricular Dysfunction</td>\n",
       "      <td>\"It has no side effect, I take it in combinati...</td>\n",
       "      <td>9</td>\n",
       "      <td>20-May-12</td>\n",
       "      <td>27</td>\n",
       "    </tr>\n",
       "    <tr>\n",
       "      <td>1</td>\n",
       "      <td>95260</td>\n",
       "      <td>Guanfacine</td>\n",
       "      <td>ADHD</td>\n",
       "      <td>\"My son is halfway through his fourth week of ...</td>\n",
       "      <td>8</td>\n",
       "      <td>27-Apr-10</td>\n",
       "      <td>192</td>\n",
       "    </tr>\n",
       "    <tr>\n",
       "      <td>2</td>\n",
       "      <td>92703</td>\n",
       "      <td>Lybrel</td>\n",
       "      <td>Birth Control</td>\n",
       "      <td>\"I used to take another oral contraceptive, wh...</td>\n",
       "      <td>5</td>\n",
       "      <td>14-Dec-09</td>\n",
       "      <td>17</td>\n",
       "    </tr>\n",
       "    <tr>\n",
       "      <td>3</td>\n",
       "      <td>138000</td>\n",
       "      <td>Ortho Evra</td>\n",
       "      <td>Birth Control</td>\n",
       "      <td>\"This is my first time using any form of birth...</td>\n",
       "      <td>8</td>\n",
       "      <td>3-Nov-15</td>\n",
       "      <td>10</td>\n",
       "    </tr>\n",
       "    <tr>\n",
       "      <td>4</td>\n",
       "      <td>35696</td>\n",
       "      <td>Buprenorphine / naloxone</td>\n",
       "      <td>Opiate Dependence</td>\n",
       "      <td>\"Suboxone has completely turned my life around...</td>\n",
       "      <td>9</td>\n",
       "      <td>27-Nov-16</td>\n",
       "      <td>37</td>\n",
       "    </tr>\n",
       "  </tbody>\n",
       "</table>\n",
       "</div>"
      ],
      "text/plain": [
       "   uniqueID                  drugName                     condition  \\\n",
       "0    206461                 Valsartan  Left Ventricular Dysfunction   \n",
       "1     95260                Guanfacine                          ADHD   \n",
       "2     92703                    Lybrel                 Birth Control   \n",
       "3    138000                Ortho Evra                 Birth Control   \n",
       "4     35696  Buprenorphine / naloxone             Opiate Dependence   \n",
       "\n",
       "                                              review  rating       date  \\\n",
       "0  \"It has no side effect, I take it in combinati...       9  20-May-12   \n",
       "1  \"My son is halfway through his fourth week of ...       8  27-Apr-10   \n",
       "2  \"I used to take another oral contraceptive, wh...       5  14-Dec-09   \n",
       "3  \"This is my first time using any form of birth...       8   3-Nov-15   \n",
       "4  \"Suboxone has completely turned my life around...       9  27-Nov-16   \n",
       "\n",
       "   usefulCount  \n",
       "0           27  \n",
       "1          192  \n",
       "2           17  \n",
       "3           10  \n",
       "4           37  "
      ]
     },
     "execution_count": 3,
     "metadata": {},
     "output_type": "execute_result"
    }
   ],
   "source": [
    "df_train.head()"
   ]
  },
  {
   "cell_type": "code",
   "execution_count": 4,
   "metadata": {},
   "outputs": [
    {
     "data": {
      "text/html": [
       "<div>\n",
       "<style scoped>\n",
       "    .dataframe tbody tr th:only-of-type {\n",
       "        vertical-align: middle;\n",
       "    }\n",
       "\n",
       "    .dataframe tbody tr th {\n",
       "        vertical-align: top;\n",
       "    }\n",
       "\n",
       "    .dataframe thead th {\n",
       "        text-align: right;\n",
       "    }\n",
       "</style>\n",
       "<table border=\"1\" class=\"dataframe\">\n",
       "  <thead>\n",
       "    <tr style=\"text-align: right;\">\n",
       "      <th></th>\n",
       "      <th>uniqueID</th>\n",
       "      <th>drugName</th>\n",
       "      <th>condition</th>\n",
       "      <th>review</th>\n",
       "      <th>rating</th>\n",
       "      <th>date</th>\n",
       "      <th>usefulCount</th>\n",
       "    </tr>\n",
       "  </thead>\n",
       "  <tbody>\n",
       "    <tr>\n",
       "      <td>0</td>\n",
       "      <td>163740</td>\n",
       "      <td>Mirtazapine</td>\n",
       "      <td>Depression</td>\n",
       "      <td>\"I&amp;#039;ve tried a few antidepressants over th...</td>\n",
       "      <td>10</td>\n",
       "      <td>28-Feb-12</td>\n",
       "      <td>22</td>\n",
       "    </tr>\n",
       "    <tr>\n",
       "      <td>1</td>\n",
       "      <td>206473</td>\n",
       "      <td>Mesalamine</td>\n",
       "      <td>Crohn's Disease, Maintenance</td>\n",
       "      <td>\"My son has Crohn&amp;#039;s disease and has done ...</td>\n",
       "      <td>8</td>\n",
       "      <td>17-May-09</td>\n",
       "      <td>17</td>\n",
       "    </tr>\n",
       "    <tr>\n",
       "      <td>2</td>\n",
       "      <td>159672</td>\n",
       "      <td>Bactrim</td>\n",
       "      <td>Urinary Tract Infection</td>\n",
       "      <td>\"Quick reduction of symptoms\"</td>\n",
       "      <td>9</td>\n",
       "      <td>29-Sep-17</td>\n",
       "      <td>3</td>\n",
       "    </tr>\n",
       "    <tr>\n",
       "      <td>3</td>\n",
       "      <td>39293</td>\n",
       "      <td>Contrave</td>\n",
       "      <td>Weight Loss</td>\n",
       "      <td>\"Contrave combines drugs that were used for al...</td>\n",
       "      <td>9</td>\n",
       "      <td>5-Mar-17</td>\n",
       "      <td>35</td>\n",
       "    </tr>\n",
       "    <tr>\n",
       "      <td>4</td>\n",
       "      <td>97768</td>\n",
       "      <td>Cyclafem 1 / 35</td>\n",
       "      <td>Birth Control</td>\n",
       "      <td>\"I have been on this birth control for one cyc...</td>\n",
       "      <td>9</td>\n",
       "      <td>22-Oct-15</td>\n",
       "      <td>4</td>\n",
       "    </tr>\n",
       "  </tbody>\n",
       "</table>\n",
       "</div>"
      ],
      "text/plain": [
       "   uniqueID         drugName                     condition  \\\n",
       "0    163740      Mirtazapine                    Depression   \n",
       "1    206473       Mesalamine  Crohn's Disease, Maintenance   \n",
       "2    159672          Bactrim       Urinary Tract Infection   \n",
       "3     39293         Contrave                   Weight Loss   \n",
       "4     97768  Cyclafem 1 / 35                 Birth Control   \n",
       "\n",
       "                                              review  rating       date  \\\n",
       "0  \"I&#039;ve tried a few antidepressants over th...      10  28-Feb-12   \n",
       "1  \"My son has Crohn&#039;s disease and has done ...       8  17-May-09   \n",
       "2                      \"Quick reduction of symptoms\"       9  29-Sep-17   \n",
       "3  \"Contrave combines drugs that were used for al...       9   5-Mar-17   \n",
       "4  \"I have been on this birth control for one cyc...       9  22-Oct-15   \n",
       "\n",
       "   usefulCount  \n",
       "0           22  \n",
       "1           17  \n",
       "2            3  \n",
       "3           35  \n",
       "4            4  "
      ]
     },
     "execution_count": 4,
     "metadata": {},
     "output_type": "execute_result"
    }
   ],
   "source": [
    "df_test.head()"
   ]
  },
  {
   "cell_type": "markdown",
   "metadata": {},
   "source": [
    "## Top five conditions"
   ]
  },
  {
   "cell_type": "code",
   "execution_count": 5,
   "metadata": {},
   "outputs": [
    {
     "data": {
      "text/plain": [
       "Birth Control    28788\n",
       "Depression        9069\n",
       "Pain              6145\n",
       "Anxiety           5904\n",
       "Acne              5588\n",
       "Name: condition, dtype: int64"
      ]
     },
     "execution_count": 5,
     "metadata": {},
     "output_type": "execute_result"
    }
   ],
   "source": [
    "df_train['condition'].value_counts().sort_values(ascending=False)[0:5]"
   ]
  },
  {
   "cell_type": "code",
   "execution_count": 6,
   "metadata": {},
   "outputs": [
    {
     "name": "stderr",
     "output_type": "stream",
     "text": [
      "C:\\Users\\Manik\\Anaconda3\\lib\\site-packages\\matplotlib\\cbook\\deprecation.py:107: MatplotlibDeprecationWarning: Using pyplot.axes(ax) with ax an Axes argument is deprecated. Please use pyplot.sca(ax) instead.\n",
      "  warnings.warn(message, mplDeprecation, stacklevel=1)\n"
     ]
    },
    {
     "data": {
      "image/png": "[encoded data removed]",
      "text/plain": [
       "<Figure size 432x288 with 1 Axes>"
      ]
     },
     "metadata": {},
     "output_type": "display_data"
    }
   ],
   "source": [
    "bar_data = df_train['condition'].value_counts().sort_values(ascending=False)[0:8]\n",
    "# my_colors = list(islice(cycle(['b', 'r', 'g', 'y', 'k']), None, len(bar_data)))\n",
    "ax = bar_data.plot.bar(color='skyblue',stacked=True)\n",
    "plt.xticks(rotation=45)\n",
    "plt.axes(ax)\n",
    "plt.show()"
   ]
  },
  {
   "cell_type": "code",
   "execution_count": 7,
   "metadata": {},
   "outputs": [
    {
     "data": {
      "image/png": "[encoded data removed]",
      "text/plain": [
       "<Figure size 432x288 with 1 Axes>"
      ]
     },
     "metadata": {},
     "output_type": "display_data"
    }
   ],
   "source": [
    "plt.scatter(df_train['rating'], df_train['usefulCount'], c=df_train['rating'].values, cmap='Set3')\n",
    "plt.title('Useful Count vs Rating')\n",
    "plt.xlabel('Rating')\n",
    "plt.ylabel('Useful Count')\n",
    "plt.show()"
   ]
  },
  {
   "cell_type": "code",
   "execution_count": 16,
   "metadata": {
    "collapsed": true
   },
   "outputs": [],
   "source": [
    "vader_analyzer = SentimentIntensityAnalyzer()\n",
    "def sentiment_analyzer_scores(sentence):\n",
    "    score = vader_analyzer.polarity_scores(sentence)\n",
    "    print(\"{:-<40} {}\".format(sentence, str(score)))"
   ]
  },
  {
   "cell_type": "code",
   "execution_count": 17,
   "metadata": {
    "collapsed": true
   },
   "outputs": [],
   "source": [
    "sentiments = []\n",
    "for i in df_train.review:\n",
    "    sentiments.append(vader_analyzer.polarity_scores(i))\n",
    "    \n",
    "sentiments = np.asarray(sentiments)"
   ]
  },
  {
   "cell_type": "code",
   "execution_count": 8,
   "metadata": {},
   "outputs": [
    {
     "name": "stdout",
     "output_type": "stream",
     "text": [
      "\"I have been on this medication almost two weeks, started out on 25mg and working my way up to 100mg, currently at 50mg. No headaches at all so far and I was having 2-3 crippling migraines a week. I have lost 5.2lbs so far but note I am really paying close attention to what I am eating, I have a lot of weight to lose and if weight loss is a side effect I want to help it along as much as I can.  Now, other side effects, they are there the word recall issues exist, the memory issues, the worst of it seems to be the vision disturbances, there have been times I have just not driven because I&#039;m sure it would not have been safe. The good news is it seems to be wearing off...I have tons of energy and I am in a great mood.\"\n"
     ]
    },
    {
     "ename": "NameError",
     "evalue": "name 'sentiments' is not defined",
     "output_type": "error",
     "traceback": [
      "\u001b[1;31m---------------------------------------------------------------------------\u001b[0m",
      "\u001b[1;31mNameError\u001b[0m                                 Traceback (most recent call last)",
      "\u001b[1;32m<ipython-input-8-7aef3d8b9d3a>\u001b[0m in \u001b[0;36m<module>\u001b[1;34m()\u001b[0m\n\u001b[0;32m      1\u001b[0m \u001b[0mprint\u001b[0m\u001b[1;33m(\u001b[0m\u001b[0mdf_train\u001b[0m\u001b[1;33m.\u001b[0m\u001b[0mreview\u001b[0m\u001b[1;33m[\u001b[0m\u001b[1;36m10\u001b[0m\u001b[1;33m]\u001b[0m\u001b[1;33m)\u001b[0m\u001b[1;33m\u001b[0m\u001b[0m\n\u001b[1;32m----> 2\u001b[1;33m \u001b[0mprint\u001b[0m\u001b[1;33m(\u001b[0m\u001b[0msentiments\u001b[0m\u001b[1;33m[\u001b[0m\u001b[1;36m10\u001b[0m\u001b[1;33m]\u001b[0m\u001b[1;33m)\u001b[0m\u001b[1;33m\u001b[0m\u001b[0m\n\u001b[0m\u001b[0;32m      3\u001b[0m \u001b[0mprint\u001b[0m\u001b[1;33m(\u001b[0m\u001b[0mdf_train\u001b[0m\u001b[1;33m.\u001b[0m\u001b[0mrating\u001b[0m\u001b[1;33m[\u001b[0m\u001b[1;36m10\u001b[0m\u001b[1;33m]\u001b[0m\u001b[1;33m)\u001b[0m\u001b[1;33m\u001b[0m\u001b[0m\n",
      "\u001b[1;31mNameError\u001b[0m: name 'sentiments' is not defined"
     ]
    }
   ],
   "source": [
    "print(df_train.review[10])\n",
    "print(sentiments[10])\n",
    "print(df_train.rating[10])"
   ]
  },
  {
   "cell_type": "code",
   "execution_count": 9,
   "metadata": {
    "collapsed": true
   },
   "outputs": [],
   "source": [
    "# Creates TF-IDF vectorizer and transforms the corpus\n",
    "# vectorizer = TfidfVectorizer()\n",
    "vectorizer = HashingVectorizer(n_features=2**13)\n",
    "X_train = vectorizer.fit_transform(df_train.review)\n",
    "\n",
    "# transforms test reviews to above vectorized format\n",
    "X_test = vectorizer.transform(df_test.review)"
   ]
  },
  {
   "cell_type": "code",
   "execution_count": 10,
   "metadata": {},
   "outputs": [
    {
     "data": {
      "text/plain": [
       "2117"
      ]
     },
     "execution_count": 10,
     "metadata": {},
     "output_type": "execute_result"
    }
   ],
   "source": [
    "gc.collect()"
   ]
  },
  {
   "cell_type": "code",
   "execution_count": 20,
   "metadata": {},
   "outputs": [
    {
     "name": "stdout",
     "output_type": "stream",
     "text": [
      "(1, 8192)\n",
      "(161297, 8192)\n",
      "(1, 8192)\n",
      "(1, 8192)\n",
      "\n",
      "<class 'pandas.core.series.Series'>\n",
      "(161297,)\n",
      "<class 'pandas.core.series.Series'>\n",
      "(53766,)\n",
      "\n",
      "10\n",
      "10\n",
      "\n",
      "1\n",
      "1\n"
     ]
    }
   ],
   "source": [
    "print(X_train[0].shape)\n",
    "print(X_train.shape)\n",
    "print(X_train[2].shape)\n",
    "print(X_train[3].shape)\n",
    "\n",
    "y_train = df_train.rating\n",
    "y_test = df_test.rating\n",
    "print()\n",
    "\n",
    "print(type(y_train))\n",
    "print(y_train.shape)\n",
    "print(type(y_test))\n",
    "print(y_test.shape)\n",
    "\n",
    "print()\n",
    "\n",
    "print(max(y_train))\n",
    "print(max(y_test))\n",
    "print()\n",
    "print(min(y_train))\n",
    "print(min(y_test))"
   ]
  },
  {
   "cell_type": "code",
   "execution_count": 21,
   "metadata": {},
   "outputs": [],
   "source": [
    "x_train_nn = X_train\n",
    "x_test_nn = X_test\n",
    "y_train_nn = keras.utils.to_categorical(np.array(y_train))\n",
    "y_test_nn = keras.utils.to_categorical(np.array(y_test))"
   ]
  },
  {
   "cell_type": "code",
   "execution_count": 24,
   "metadata": {
    "collapsed": true
   },
   "outputs": [],
   "source": [
    "y_train = df_train.rating.copy(deep=True)\n",
    "y_test = df_test.rating.copy(deep=True)\n",
    "\n",
    "def conver_op(labels):\n",
    "    for i in range(len(labels)):\n",
    "        if(labels[i]<3):\n",
    "            labels[i]=0\n",
    "        elif(labels[i]<7):\n",
    "            labels[i]=1\n",
    "        elif(labels[i]<=10):\n",
    "            labels[i]=2\n",
    "    return labels\n",
    "\n",
    "# y_train = conver_op(y_train)\n",
    "# y_test = conver_op(y_test)"
   ]
  },
  {
   "cell_type": "code",
   "execution_count": 22,
   "metadata": {},
   "outputs": [
    {
     "name": "stdout",
     "output_type": "stream",
     "text": [
      "(161297, 8192)\n",
      "(161297, 11)\n",
      "(53766, 8192)\n",
      "(53766, 11)\n",
      "\n",
      "  (0, 301)\t-0.24253562503633297\n",
      "  (0, 447)\t-0.24253562503633297\n",
      "  (0, 1297)\t0.24253562503633297\n",
      "  (0, 1646)\t0.24253562503633297\n",
      "  (0, 2110)\t0.48507125007266594\n",
      "  (0, 2191)\t0.24253562503633297\n",
      "  (0, 4395)\t-0.24253562503633297\n",
      "  (0, 4396)\t0.24253562503633297\n",
      "  (0, 4952)\t-0.24253562503633297\n",
      "  (0, 4972)\t0.24253562503633297\n",
      "  (0, 5552)\t0.24253562503633297\n",
      "  (0, 6020)\t-0.24253562503633297\n",
      "  (0, 6711)\t-0.24253562503633297\n",
      "  (0, 7625)\t-0.24253562503633297\n",
      "[0. 0. 0. 0. 0. 0. 0. 0. 0. 1. 0.]\n"
     ]
    }
   ],
   "source": [
    "print(x_train_nn.shape)\n",
    "print(y_train_nn.shape)\n",
    "print(x_test_nn.shape)\n",
    "print(y_test_nn.shape)\n",
    "print()\n",
    "print(x_train_nn[0])\n",
    "print(y_train_nn[0])"
   ]
  },
  {
   "cell_type": "code",
   "execution_count": 25,
   "metadata": {},
   "outputs": [
    {
     "data": {
      "text/plain": [
       "0          9\n",
       "1          8\n",
       "2          5\n",
       "3          8\n",
       "4          9\n",
       "          ..\n",
       "161292    10\n",
       "161293     1\n",
       "161294     2\n",
       "161295    10\n",
       "161296     9\n",
       "Name: rating, Length: 161297, dtype: int64"
      ]
     },
     "execution_count": 25,
     "metadata": {},
     "output_type": "execute_result"
    }
   ],
   "source": [
    "y_train"
   ]
  },
  {
   "cell_type": "code",
   "execution_count": 26,
   "metadata": {
    "scrolled": false
   },
   "outputs": [
    {
     "name": "stderr",
     "output_type": "stream",
     "text": [
      "[Parallel(n_jobs=1)]: Using backend SequentialBackend with 1 concurrent workers.\n"
     ]
    },
    {
     "name": "stdout",
     "output_type": "stream",
     "text": [
      "building tree 1 of 20\n"
     ]
    },
    {
     "name": "stderr",
     "output_type": "stream",
     "text": [
      "[Parallel(n_jobs=1)]: Done   1 out of   1 | elapsed:    4.9s remaining:    0.0s\n"
     ]
    },
    {
     "name": "stdout",
     "output_type": "stream",
     "text": [
      "building tree 2 of 20\n",
      "building tree 3 of 20\n",
      "building tree 4 of 20\n",
      "building tree 5 of 20\n",
      "building tree 6 of 20\n",
      "building tree 7 of 20\n",
      "building tree 8 of 20\n",
      "building tree 9 of 20\n",
      "building tree 10 of 20\n",
      "building tree 11 of 20\n",
      "building tree 12 of 20\n",
      "building tree 13 of 20\n",
      "building tree 14 of 20\n",
      "building tree 15 of 20\n",
      "building tree 16 of 20\n",
      "building tree 17 of 20\n",
      "building tree 18 of 20\n",
      "building tree 19 of 20\n",
      "building tree 20 of 20\n"
     ]
    },
    {
     "name": "stderr",
     "output_type": "stream",
     "text": [
      "[Parallel(n_jobs=1)]: Done  20 out of  20 | elapsed:  1.7min finished\n",
      "[Parallel(n_jobs=1)]: Using backend SequentialBackend with 1 concurrent workers.\n",
      "[Parallel(n_jobs=1)]: Done   1 out of   1 | elapsed:    0.0s remaining:    0.0s\n",
      "[Parallel(n_jobs=1)]: Done  20 out of  20 | elapsed:    1.2s finished\n",
      "[Parallel(n_jobs=1)]: Using backend SequentialBackend with 1 concurrent workers.\n",
      "[Parallel(n_jobs=1)]: Done   1 out of   1 | elapsed:    0.0s remaining:    0.0s\n"
     ]
    },
    {
     "name": "stdout",
     "output_type": "stream",
     "text": [
      "Accuracy: 0.43553546851169883\n",
      "Confusion Matrix\n",
      "[[ 4031   643   527   282   344   200   177   191   181   209]\n",
      " [    0    23     1     0     0     0     0     0     0     0]\n",
      " [    0     1    28     0     1     0     0     0     0     0]\n",
      " [    0     0     0    17     0     0     0     0     1     0]\n",
      " [    0     0     0     0    48     0     0     0     0     0]\n",
      " [    0     1     1     0     1    32     0     0     0     1]\n",
      " [    0     0     0     0     0     1    56     2     0     0]\n",
      " [   12    14    35    29    32    39    63   667    30    15]\n",
      " [  105    98   110   125   220   186   261   334  1885   161]\n",
      " [ 3151  1554  1503  1206  2064  1661  2534  4962  7080 16630]]\n",
      "Wall time: 1min 46s\n"
     ]
    },
    {
     "name": "stderr",
     "output_type": "stream",
     "text": [
      "[Parallel(n_jobs=1)]: Done  20 out of  20 | elapsed:    1.2s finished\n"
     ]
    }
   ],
   "source": [
    "%%time\n",
    "# vectorizer.get_feature_names()\n",
    "rfc_rating = RandomForestClassifier(n_estimators=20, random_state=42, max_depth = 500, min_samples_split = 0.001, verbose=2)\n",
    "rfc_rating.fit(X_train, y_train)\n",
    "\n",
    "# Evaluates model on test set\n",
    "pred = rfc_rating.predict(X_test)\n",
    "\n",
    "print(\"Accuracy: %s\" % str(rfc_rating.score(X_test, y_test)))\n",
    "print(\"Confusion Matrix\")\n",
    "print(confusion_matrix(pred, y_test))"
   ]
  },
  {
   "cell_type": "code",
   "execution_count": 36,
   "metadata": {},
   "outputs": [
    {
     "name": "stdout",
     "output_type": "stream",
     "text": [
      "Accuracy : 43.55%\n"
     ]
    }
   ],
   "source": [
    "import sklearn\n",
    "print(\"Accuracy : {}%\".format(round(sklearn.metrics.accuracy_score(pred, y_test) * 100, 2)))"
   ]
  },
  {
   "cell_type": "code",
   "execution_count": 23,
   "metadata": {
    "collapsed": true
   },
   "outputs": [],
   "source": [
    "# print(len(vectorizer.get_feature_names()))\n",
    "# vectorizer.get_feature_names()[6000:7000]"
   ]
  },
  {
   "cell_type": "code",
   "execution_count": 30,
   "metadata": {},
   "outputs": [
    {
     "data": {
      "image/png": "[encoded data removed]",
      "text/plain": [
       "<Figure size 720x720 with 2 Axes>"
      ]
     },
     "metadata": {},
     "output_type": "display_data"
    }
   ],
   "source": [
    "fig, ax = plt.subplots(figsize=(10,10))\n",
    "cm = confusion_matrix(pred, y_test)\n",
    "im = ax.imshow(cm, interpolation='nearest', cmap=plt.cm.Blues)\n",
    "ax.figure.colorbar(im, ax=ax)\n",
    "plt.show()"
   ]
  },
  {
   "cell_type": "code",
   "execution_count": 99,
   "metadata": {
    "collapsed": true
   },
   "outputs": [],
   "source": [
    "model = Sequential()\n",
    "\n",
    "# Dense-1\n",
    "model.add(Dense(500, input_shape=(8192,)))\n",
    "model.add(BatchNormalization())\n",
    "model.add(Activation('relu'))\n",
    "model.add(Dropout(0.5))\n",
    "\n",
    "# Dense-2\n",
    "model.add(Dense(300))\n",
    "model.add(BatchNormalization())\n",
    "model.add(Activation('relu'))\n",
    "model.add(Dropout(0.5))\n",
    "\n",
    "# Dense-3\n",
    "model.add(Dense(3, activation='sigmoid'))\n",
    "\n",
    "model.compile(loss='categorical_crossentropy', metrics=['acc'], optimizer='adam')"
   ]
  },
  {
   "cell_type": "code",
   "execution_count": 100,
   "metadata": {},
   "outputs": [
    {
     "name": "stdout",
     "output_type": "stream",
     "text": [
      "_________________________________________________________________\n",
      "Layer (type)                 Output Shape              Param #   \n",
      "=================================================================\n",
      "dense_4 (Dense)              (None, 500)               4096500   \n",
      "_________________________________________________________________\n",
      "batch_normalization_3 (Batch (None, 500)               2000      \n",
      "_________________________________________________________________\n",
      "activation_3 (Activation)    (None, 500)               0         \n",
      "_________________________________________________________________\n",
      "dropout_3 (Dropout)          (None, 500)               0         \n",
      "_________________________________________________________________\n",
      "dense_5 (Dense)              (None, 300)               150300    \n",
      "_________________________________________________________________\n",
      "batch_normalization_4 (Batch (None, 300)               1200      \n",
      "_________________________________________________________________\n",
      "activation_4 (Activation)    (None, 300)               0         \n",
      "_________________________________________________________________\n",
      "dropout_4 (Dropout)          (None, 300)               0         \n",
      "_________________________________________________________________\n",
      "dense_6 (Dense)              (None, 3)                 903       \n",
      "=================================================================\n",
      "Total params: 4,250,903\n",
      "Trainable params: 4,249,303\n",
      "Non-trainable params: 1,600\n",
      "_________________________________________________________________\n"
     ]
    }
   ],
   "source": [
    "model.summary()"
   ]
  },
  {
   "cell_type": "code",
   "execution_count": 101,
   "metadata": {
    "scrolled": true
   },
   "outputs": [
    {
     "name": "stdout",
     "output_type": "stream",
     "text": [
      "Train on 161297 samples, validate on 53766 samples\n",
      "Epoch 1/20\n",
      "161297/161297 [==============================] - 140s 870us/step - loss: 0.6313 - acc: 0.7438 - val_loss: 0.5362 - val_acc: 0.7771\n",
      "Epoch 2/20\n",
      "161297/161297 [==============================] - 139s 861us/step - loss: 0.4974 - acc: 0.7950 - val_loss: 0.4977 - val_acc: 0.7971\n",
      "Epoch 3/20\n",
      "161297/161297 [==============================] - 137s 851us/step - loss: 0.4206 - acc: 0.8285 - val_loss: 0.4651 - val_acc: 0.8139\n",
      "Epoch 4/20\n",
      "161297/161297 [==============================] - 139s 863us/step - loss: 0.3435 - acc: 0.8635 - val_loss: 0.4346 - val_acc: 0.8328\n",
      "Epoch 5/20\n",
      "161297/161297 [==============================] - 137s 852us/step - loss: 0.2724 - acc: 0.8942 - val_loss: 0.4055 - val_acc: 0.8572\n",
      "Epoch 6/20\n",
      "161297/161297 [==============================] - 138s 855us/step - loss: 0.2210 - acc: 0.9152 - val_loss: 0.3998 - val_acc: 0.8724\n",
      "Epoch 7/20\n",
      "161297/161297 [==============================] - 137s 850us/step - loss: 0.1773 - acc: 0.9330 - val_loss: 0.3956 - val_acc: 0.8755\n",
      "Epoch 8/20\n",
      "161297/161297 [==============================] - 138s 853us/step - loss: 0.1465 - acc: 0.9461 - val_loss: 0.4077 - val_acc: 0.8805\n",
      "Epoch 9/20\n",
      "161297/161297 [==============================] - 138s 855us/step - loss: 0.1261 - acc: 0.9537 - val_loss: 0.4181 - val_acc: 0.8798\n",
      "Epoch 10/20\n",
      "161297/161297 [==============================] - 139s 862us/step - loss: 0.1105 - acc: 0.9603 - val_loss: 0.4170 - val_acc: 0.8921\n",
      "Epoch 11/20\n",
      "161297/161297 [==============================] - 140s 867us/step - loss: 0.0998 - acc: 0.9643 - val_loss: 0.4249 - val_acc: 0.8907\n",
      "Epoch 12/20\n",
      "161297/161297 [==============================] - 138s 854us/step - loss: 0.0867 - acc: 0.9689 - val_loss: 0.4384 - val_acc: 0.8927\n",
      "Epoch 13/20\n",
      "161297/161297 [==============================] - 138s 856us/step - loss: 0.0831 - acc: 0.9703 - val_loss: 0.4312 - val_acc: 0.8897\n",
      "Epoch 14/20\n",
      "161297/161297 [==============================] - 138s 854us/step - loss: 0.0728 - acc: 0.9740 - val_loss: 0.4530 - val_acc: 0.8947\n",
      "Epoch 15/20\n",
      "161297/161297 [==============================] - 155s 963us/step - loss: 0.0683 - acc: 0.9756 - val_loss: 0.4628 - val_acc: 0.8924\n",
      "Epoch 16/20\n",
      "161297/161297 [==============================] - 155s 958us/step - loss: 0.0658 - acc: 0.9767 - val_loss: 0.4576 - val_acc: 0.8914\n",
      "Epoch 17/20\n",
      "161297/161297 [==============================] - 149s 923us/step - loss: 0.0623 - acc: 0.9779 - val_loss: 0.4755 - val_acc: 0.8921\n",
      "Epoch 18/20\n",
      "161297/161297 [==============================] - 147s 912us/step - loss: 0.0564 - acc: 0.9800 - val_loss: 0.4849 - val_acc: 0.8957\n",
      "Epoch 19/20\n",
      "161297/161297 [==============================] - 148s 917us/step - loss: 0.0558 - acc: 0.9804 - val_loss: 0.4941 - val_acc: 0.8946\n",
      "Epoch 20/20\n",
      "161297/161297 [==============================] - 144s 892us/step - loss: 0.0524 - acc: 0.9816 - val_loss: 0.5002 - val_acc: 0.8945\n"
     ]
    }
   ],
   "source": [
    "model_history = model.fit(x_train_nn, y_train_nn, epochs=20, batch_size=256, validation_data=(x_test_nn, y_test_nn))"
   ]
  },
  {
   "cell_type": "code",
   "execution_count": 108,
   "metadata": {},
   "outputs": [
    {
     "data": {
      "image/png": "[encoded data removed]",
      "text/plain": [
       "<Figure size 432x288 with 1 Axes>"
      ]
     },
     "metadata": {},
     "output_type": "display_data"
    }
   ],
   "source": [
    "acc = model_history.history['acc']\n",
    "val = model_history.history['val_acc']\n",
    "epochs = 20\n",
    "\n",
    "plt.plot(range(epochs), acc, 'ob-', label='Train Accuracy')\n",
    "plt.plot(range(epochs), val, 'oc-', label='Test Accuracy')\n",
    "plt.legend(loc='lower right')\n",
    "plt.xlim(0, 20)\n",
    "plt.ylim(0.5, 1)\n",
    "plt.show()"
   ]
  },
  {
   "cell_type": "code",
   "execution_count": 110,
   "metadata": {},
   "outputs": [
    {
     "data": {
      "image/png": "[encoded data removed]",
      "text/plain": [
       "<Figure size 432x288 with 1 Axes>"
      ]
     },
     "metadata": {},
     "output_type": "display_data"
    }
   ],
   "source": [
    "loss = model_history.history['loss']\n",
    "vall = model_history.history['val_loss']\n",
    "epochs = 20\n",
    "\n",
    "plt.plot(range(epochs), loss, 'ob-', label='Train Loss')\n",
    "plt.plot(range(epochs), vall, 'oc-', label='Test Loss')\n",
    "plt.legend(loc='upper right')\n",
    "plt.show()"
   ]
  },
  {
   "cell_type": "code",
   "execution_count": null,
   "metadata": {
    "collapsed": true
   },
   "outputs": [],
   "source": []
  }
 ],
 "metadata": {
  "kernelspec": {
   "display_name": "Python 3",
   "language": "python",
   "name": "python3"
  },
  "language_info": {
   "codemirror_mode": {
    "name": "ipython",
    "version": 3
   },
   "file_extension": ".py",
   "mimetype": "text/x-python",
   "name": "python",
   "nbconvert_exporter": "python",
   "pygments_lexer": "ipython3",
   "version": "3.6.3"
  }
 },
 "nbformat": 4,
 "nbformat_minor": 2
}
