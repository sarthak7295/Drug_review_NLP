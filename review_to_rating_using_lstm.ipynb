{
 "cells": [
  {
   "cell_type": "code",
   "execution_count": 1,
   "metadata": {},
   "outputs": [
    {
     "name": "stderr",
     "output_type": "stream",
     "text": [
      "'nltk.download' is not recognized as an internal or external command,\n",
      "operable program or batch file.\n"
     ]
    }
   ],
   "source": [
    "import numpy as np\n",
    "import nltk\n",
    "from nltk.stem import PorterStemmer\n",
    "from nltk.corpus import stopwords\n",
    "!nltk.download('stopwords')"
   ]
  },
  {
   "cell_type": "code",
   "execution_count": 10,
   "metadata": {},
   "outputs": [],
   "source": [
    "mystr = \"I have sex a lot.I have not ever suffered allergies to any meds except this one.  My face got really red, itching, wheezing and bad headache. Went by doc office next day to see if this was an allergic reaction.  Nurse asked if had fevers and said prob but had not checked. I had just drank some ibuprofen so when she checked it was slightly higher than normal. Nurse said if I could tolerate the medication to continue taking 5 day dosage. I felt so bad by the 4th day (lightheaded/ dizziness, facial numbness, extreme fatigue, depression, body aches, and my right side & back hurt alot). I skipped the 5th dose. I thought I would never feel better again.  It took about 2 months to feel better. I found out I am allergic to sulfa meds. Did not clear UTI.\""
   ]
  },
  {
   "cell_type": "code",
   "execution_count": 3,
   "metadata": {},
   "outputs": [
    {
     "name": "stdout",
     "output_type": "stream",
     "text": [
      "T have sex a lot!!!!!!!!!!.I have not ever suffered allergies to any meds except this one.  My face got really red, itching, wheezing and bad headache. Went by doc office next day to see if this was an allergic reaction.  Nurse asked if had fevers and said prob but had not checked. I had just drank some ibuprofen so when she checked it was slightly higher than normal. Nurse said if I could tolerate the medication to continue taking 5 day dosage. I felt so bad by the 4th day (lightheaded/ dizziness, facial numbness, extreme fatigue, depression, body aches, and my right side & back hurt alot). I skipped the 5th dose. I thought I would never feel better again.  It took about 2 months to feel better. I found out I am allergic to sulfa meds. Did not clear UTI.\n"
     ]
    }
   ],
   "source": [
    "print(mystr)"
   ]
  },
  {
   "cell_type": "code",
   "execution_count": 4,
   "metadata": {},
   "outputs": [],
   "source": [
    "stem = PorterStemmer()\n",
    "stop_words = set(stopwords.words('english'))"
   ]
  },
  {
   "cell_type": "code",
   "execution_count": 5,
   "metadata": {},
   "outputs": [
    {
     "name": "stdout",
     "output_type": "stream",
     "text": [
      "{'T': 1, 'sex': 1, 'lot': 1, '!': 10, '.I': 1, 'ever': 1, 'suffer': 1, 'allergi': 1, 'ani': 1, 'med': 2, 'except': 1, 'thi': 2, 'one': 1, '.': 12, 'My': 1, 'face': 1, 'got': 1, 'realli': 1, 'red': 1, ',': 7, 'itch': 1, 'wheez': 1, 'bad': 2, 'headach': 1, 'went': 1, 'doc': 1, 'offic': 1, 'next': 1, 'day': 3, 'see': 1, 'wa': 2, 'allerg': 2, 'reaction': 1, 'nurs': 2, 'ask': 1, 'fever': 1, 'said': 2, 'prob': 1, 'check': 2, 'I': 8, 'drank': 1, 'ibuprofen': 1, 'slightli': 1, 'higher': 1, 'normal': 1, 'could': 1, 'toler': 1, 'medic': 1, 'continu': 1, 'take': 1, '5': 1, 'dosag': 1, 'felt': 1, '4th': 1, '(': 1, 'lightheaded/': 1, 'dizzi': 1, 'facial': 1, 'numb': 1, 'extrem': 1, 'fatigu': 1, 'depress': 1, 'bodi': 1, 'ach': 1, 'right': 1, 'side': 1, '&': 1, 'back': 1, 'hurt': 1, 'alot': 1, ')': 1, 'skip': 1, '5th': 1, 'dose': 1, 'thought': 1, 'would': 1, 'never': 1, 'feel': 2, 'better': 2, 'It': 1, 'took': 1, '2': 1, 'month': 1, 'found': 1, 'sulfa': 1, 'clear': 1, 'uti': 1}\n",
      "['T', 'sex', 'lot', '!', '.I', 'ever', 'suffer', 'allergi', 'ani', 'med', 'except', 'thi', 'one', '.', 'My', 'face', 'got', 'realli', 'red', ',', 'itch', 'wheez', 'bad', 'headach', 'went', 'doc', 'offic', 'next', 'day', 'see', 'wa', 'allerg', 'reaction', 'nurs', 'ask', 'fever', 'said', 'prob', 'check', 'I', 'drank', 'ibuprofen', 'slightli', 'higher', 'normal', 'could', 'toler', 'medic', 'continu', 'take', '5', 'dosag', 'felt', '4th', '(', 'lightheaded/', 'dizzi', 'facial', 'numb', 'extrem', 'fatigu', 'depress', 'bodi', 'ach', 'right', 'side', '&', 'back', 'hurt', 'alot', ')', 'skip', '5th', 'dose', 'thought', 'would', 'never', 'feel', 'better', 'It', 'took', '2', 'month', 'found', 'sulfa', 'clear', 'uti']\n",
      "\n",
      "\n"
     ]
    },
    {
     "data": {
      "text/plain": [
       "'T have '"
      ]
     },
     "execution_count": 5,
     "metadata": {},
     "output_type": "execute_result"
    }
   ],
   "source": [
    "words = nltk.word_tokenize(mystr)\n",
    "freq_table = {}\n",
    "for word in words:\n",
    "    new_word = stem.stem(word)\n",
    "#     new_word = word\n",
    "    if(new_word in stop_words):\n",
    "        continue\n",
    "    \n",
    "    if(new_word in freq_table):\n",
    "        freq_table[new_word] += 1\n",
    "    else:\n",
    "        freq_table[new_word] = 1\n",
    "\n",
    "print(freq_table)\n",
    "\n",
    "print([w for w in freq_table])\n",
    "\n",
    "print(\"\\n\")\n",
    "\n",
    "sents = nltk.sent_tokenize(mystr)\n",
    "\n",
    "sents[0][:7]"
   ]
  },
  {
   "cell_type": "code",
   "execution_count": 6,
   "metadata": {},
   "outputs": [
    {
     "name": "stdout",
     "output_type": "stream",
     "text": [
      "{'T have ': 4.0, '!.I hav': 3.090909090909091, 'My face': 2.8, 'Went by': 2.3333333333333335, 'Nurse a': 2.75, 'I had j': 2.857142857142857, 'Nurse s': 2.4545454545454546, 'I felt ': 1.8695652173913044, 'I skipp': 3.2, 'I thoug': 2.857142857142857, 'It took': 3.1666666666666665, 'I found': 3.1666666666666665, 'Did not': 4.666666666666667}\n"
     ]
    }
   ],
   "source": [
    "sent_scores = {}\n",
    "sentences = nltk.sent_tokenize(mystr)\n",
    "\n",
    "for sent in sentences:\n",
    "    sent_wc = len(nltk.word_tokenize(sent))\n",
    "    sent_wc_wo_stopwords = 0\n",
    "    \n",
    "    for word_weight in freq_table:\n",
    "        if word_weight in sent.lower():\n",
    "            sent_wc_wo_stopwords += 1\n",
    "            if sent[:7] in sent_scores:\n",
    "                sent_scores[sent[:7]] += freq_table[word_weight]\n",
    "            else:\n",
    "                sent_scores[sent[:7]] = freq_table[word_weight]\n",
    "                \n",
    "    sent_scores[sent[:7]] /= sent_wc_wo_stopwords\n",
    "    \n",
    "print(sent_scores)"
   ]
  },
  {
   "cell_type": "code",
   "execution_count": 7,
   "metadata": {},
   "outputs": [],
   "source": [
    "sum_values = 0\n",
    "\n",
    "for entry in sent_scores:\n",
    "    sum_values += sent_scores[entry]\n",
    "\n",
    "# Getting sentence average value from source text\n",
    "average_score = (sum_values / len(sent_scores))"
   ]
  },
  {
   "cell_type": "code",
   "execution_count": 8,
   "metadata": {},
   "outputs": [
    {
     "name": "stdout",
     "output_type": "stream",
     "text": [
      " T have sex a lot!!!!!!!!! !.I have not ever suffered allergies to any meds except this one. I skipped the 5th dose. It took about 2 months to feel better. I found out I am allergic to sulfa meds. Did not clear UTI.\n"
     ]
    }
   ],
   "source": [
    "sentence_ctr = 0\n",
    "summary = ''\n",
    "\n",
    "for sentence in sentences:\n",
    "    if((sentence[:7] in sent_scores) and (sent_scores[sentence[:7]] >= (1*average_score))):\n",
    "        summary += ' ' + sentence\n",
    "        sentence_ctr += 1\n",
    "        \n",
    "print(summary)"
   ]
  },
  {
   "cell_type": "code",
   "execution_count": null,
   "metadata": {},
   "outputs": [],
   "source": []
  }
 ],
 "metadata": {
  "kernelspec": {
   "display_name": "Python 3",
   "language": "python",
   "name": "python3"
  },
  "language_info": {
   "codemirror_mode": {
    "name": "ipython",
    "version": 3
   },
   "file_extension": ".py",
   "mimetype": "text/x-python",
   "name": "python",
   "nbconvert_exporter": "python",
   "pygments_lexer": "ipython3",
   "version": "3.6.5"
  }
 },
 "nbformat": 4,
 "nbformat_minor": 2
}
